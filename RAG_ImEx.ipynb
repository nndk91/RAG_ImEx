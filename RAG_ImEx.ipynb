{
 "cells": [
  {
   "cell_type": "code",
   "execution_count": 20,
   "id": "7f280f1a-3f0c-4019-b132-795d2cc23276",
   "metadata": {},
   "outputs": [],
   "source": [
    "!pip install -q python-dotenv\n",
    "!pip install -q gradio\n",
    "!pip install -q unstructured\n",
    "!pip install -q openpyxl\n",
    "!pip install -q tiktoken\n",
    "!pip install -q chromadb\n",
    "!pip install -q sentence-transformers\n",
    "!pip install -q --upgrade langchain\n",
    "!pip install -q -U langchain-chroma\n",
    "!pip install -q -U langchain-google-vertexai\n",
    "!pip install -q -U langchain-community\n",
    "!pip install -q -U langchain langchain-huggingface\n",
    "!pip install -q sqlalchemy"
   ]
  },
  {
   "cell_type": "code",
   "execution_count": null,
   "id": "7355421a-70dc-4618-9c1e-c96e17dae235",
   "metadata": {},
   "outputs": [],
   "source": []
  },
  {
   "cell_type": "code",
   "execution_count": 42,
   "id": "a891017b-6b58-4b5f-8ddc-1f172a8e8030",
   "metadata": {},
   "outputs": [],
   "source": [
    "import os\n",
    "import glob\n",
    "import json\n",
    "import chromadb\n",
    "import gradio as gr\n",
    "import pandas as pd\n",
    "import numpy as np\n",
    "import plotly.graph_objects as go\n",
    "import google.generativeai as genai\n",
    "from dotenv import load_dotenv\n",
    "from openai import OpenAI\n",
    "from chromadb import chromadb\n",
    "from sklearn.manifold import TSNE\n",
    "from datetime import datetime\n",
    "from sqlalchemy import create_engine, MetaData, Table, Column, Integer, String, insert, Float, DateTime, inspect\n",
    "#from google.colab import userdata"
   ]
  },
  {
   "cell_type": "code",
   "execution_count": 2,
   "id": "edefd60f-454f-4082-9b43-6aa9da0411a5",
   "metadata": {},
   "outputs": [],
   "source": [
    "# imports for langchain\n",
    "\n",
    "from langchain.document_loaders import DirectoryLoader, TextLoader, UnstructuredExcelLoader\n",
    "from langchain.text_splitter import CharacterTextSplitter\n",
    "from langchain.schema import Document\n",
    "from langchain.embeddings import OpenAIEmbeddings, SentenceTransformerEmbeddings, HuggingFaceEmbeddings \n",
    "from langchain.vectorstores import Chroma\n",
    "from langchain.chat_models import ChatOpenAI\n",
    "from langchain.memory import ConversationBufferMemory\n",
    "from langchain.chains import ConversationalRetrievalChain\n",
    "from langchain.prompts import PromptTemplate\n",
    "from langchain_chroma import Chroma\n",
    "from langchain_google_vertexai import ChatVertexAI #Import ChatVertexAI from langchain_google_vertexai\n",
    "from pydantic import BaseModel\n",
    "\n",
    "from chromadb import Client, Settings "
   ]
  },
  {
   "cell_type": "code",
   "execution_count": 77,
   "id": "7d4c8739-b5c3-4929-bb0b-85f631b0405b",
   "metadata": {},
   "outputs": [],
   "source": [
    "# Load environment variables in a file called .env\n",
    "\n",
    "load_dotenv()\n",
    "os.environ['GOOGLE_API_KEY'] = os.getenv('GOOGLE_API_KEY', 'your-key-if-not-using-env')\n",
    "os.environ['OPENAI_API_KEY'] = os.getenv('OPENAI_API_KEY', 'your-key-if-not-using-env')\n"
   ]
  },
  {
   "cell_type": "code",
   "execution_count": 78,
   "id": "76d8404f-8689-4cdc-8ea6-09c9105d72d0",
   "metadata": {},
   "outputs": [],
   "source": [
    "genai.configure(api_key=os.environ['GOOGLE_API_KEY'])\n",
    "Gemini_model = genai.GenerativeModel(\"gemini-1.5-flash\")\n",
    "MODEL = \"gemini-1.5-flash\" \n",
    "#Testing Gemini AI\n",
    "#response = model.generate_content(\"Explain how AI works\")\n",
    "#print(response.text)"
   ]
  },
  {
   "cell_type": "code",
   "execution_count": 79,
   "id": "154ee19e-b3d1-4fd3-b1fd-327b8da017e9",
   "metadata": {},
   "outputs": [],
   "source": [
    "# Initialize Vertex AI with your Project ID and location\n",
    "PROJECT_ID = \"gen-lang-client-0840327518\"  # Replace with your actual Project ID\n",
    "LOCATION = \"asia-southeast1\" #Replace with your location\n",
    "from vertexai import init\n",
    "init(project=PROJECT_ID, location=LOCATION)\n",
    "\n",
    "# Define a base language model (if you haven't already)\n",
    "class _LanguageModel(BaseModel):\n",
    "    pass\n"
   ]
  },
  {
   "cell_type": "code",
   "execution_count": 6,
   "id": "10f56e22-aff0-4c9b-b4e6-1e4ba96e9eaa",
   "metadata": {},
   "outputs": [],
   "source": [
    "# Load environment variables in google Colab\n",
    "# openai = userdata.get('OPENAI_API_KEY')\n",
    "# os.environ[\"OPENAI_API_KEY\"] = userdata.get('OPENAI_API_KEY')"
   ]
  },
  {
   "cell_type": "code",
   "execution_count": 80,
   "id": "98574e4d-7db2-4755-9c05-4b61061628ca",
   "metadata": {},
   "outputs": [],
   "source": [
    "# price is a factor for our company, so we're going to use a low cost model\n",
    "db_name = \"vector_db\""
   ]
  },
  {
   "cell_type": "code",
   "execution_count": 131,
   "id": "42b3ab33-0c35-408c-82e1-b9fd0de21b1e",
   "metadata": {},
   "outputs": [],
   "source": [
    "# Knowledge base is in /RAG_ImEx/Data\n",
    "#knowledge_base_path = \"Data/*\"  \n",
    "# Knowledge base is in /RAG_ImEx/Data\n",
    "knowledge_base_path = \"Data_test/*\"  "
   ]
  },
  {
   "cell_type": "code",
   "execution_count": 82,
   "id": "d48e5e19-139e-472a-843e-c9f722526ab8",
   "metadata": {},
   "outputs": [],
   "source": [
    "# *** Timestamp Handling ***\n",
    "def convert_timestamps(cell):\n",
    "    \"\"\"Converts Excel timestamps (float or datetime) to ISO 8601 strings.\"\"\"\n",
    "    if isinstance(cell, (float, int)):  # Check for numeric timestamps\n",
    "        try:\n",
    "            return pd.Timestamp(cell, unit='D').isoformat()  # Convert to datetime and then ISO string\n",
    "        except ValueError:\n",
    "            return cell #If the cell is not a valid timestamp, return the original value\n",
    "    elif isinstance(cell, datetime): #Check if the cell is already in datetime format\n",
    "        return cell.isoformat() #Return the ISO format of the datetime\n",
    "    return cell  # Return other cell types unchanged\n",
    "\n",
    "                "
   ]
  },
  {
   "cell_type": "code",
   "execution_count": 83,
   "id": "be25157c-780c-4d29-ba90-25ff10f4742b",
   "metadata": {},
   "outputs": [],
   "source": [
    "def combine_excel_files(knowledge_base_path, columns_to_remove=None, address_cols=None, header_translations=None):\n",
    "    \"\"\"\n",
    "    Combines multiple Excel files into a single JSON string, handling variations in\n",
    "    column positions and optional column removal/address merging.\n",
    "\n",
    "    Args:\n",
    "        knowledge_base_path: A glob pattern (e.g., \"path/to/files/*.xlsx\").\n",
    "        columns_to_remove (optional): A list of column names to remove.\n",
    "        address_cols (optional): A list of address column names to merge.\n",
    "        header_translations (optional): Whether to merge address columns.\n",
    "    Returns:\n",
    "        A JSON string containing the combined data, or None if an error occurs.\n",
    "        Prints error messages to the console.\n",
    "    \"\"\"\n",
    "\n",
    "    excel_files = []\n",
    "    all_data = []\n",
    "\n",
    "    # Find all Excel files based on the provided path (can be a glob pattern)\n",
    "    initial_paths = glob.glob(knowledge_base_path)\n",
    "    \n",
    "    \n",
    "    for path in initial_paths:\n",
    "        if os.path.isdir(path):\n",
    "            excel_files.extend(glob.glob(os.path.join(path, \"*.xlsx\"))) # Add Excel files from subdirectories\n",
    "        elif os.path.isfile(path) and path.lower().endswith(('.xls', '.xlsx')):\n",
    "            excel_files.append(path)\n",
    "        else:\n",
    "            print(f\"Skipping: {path} (Not a directory or an Excel file)\")\n",
    "\n",
    "    if not excel_files:\n",
    "        print(f\"No Excel files found matching pattern: {knowledge_base_path}\")\n",
    "        return None\n",
    "\n",
    "    for file_path in excel_files:\n",
    "        try:\n",
    "            if os.path.isdir(file_path): # redundant check, already handled above.\n",
    "                print(f\"Skipping directory: {file_path}\")\n",
    "                continue\n",
    "\n",
    "            print(f\"Processing file: {file_path}\")\n",
    "            df = pd.read_excel(file_path)\n",
    "            '''\n",
    "            # Convert all relevant columns to string type *before* any string operations\n",
    "            for col in df.columns:\n",
    "                # Check if the column has mixed types or if it's numeric\n",
    "                if pd.api.types.is_numeric_dtype(df[col]) or not all(isinstance(x, str) or pd.isna(x) for x in df[col]):\n",
    "                    df[col] = df[col].astype(str)  # Convert the column to string type\n",
    "            '''\n",
    "            # Convert column names to lowercase for consistency. Do this early.\n",
    "            df.columns = df.columns.str.lower()\n",
    "            if columns_to_remove:\n",
    "                columns_to_remove = [col.lower() for col in columns_to_remove]\n",
    "            if address_cols:\n",
    "                address_cols = [col.lower() for col in address_cols]\n",
    "            if header_translations:\n",
    "                header_translations = {k.lower(): v for k, v in header_translations.items()}\n",
    "            \n",
    "            # Merge address columns if specified and all columns are present.\n",
    "            if address_cols and all(col in df.columns for col in address_cols):\n",
    "                df['dia chi don vi doi tac'] = df[address_cols].apply(lambda row: ' '.join(row.dropna()), axis=1)\n",
    "                df = df.drop(address_cols, axis=1)\n",
    "            elif address_cols and not all(col in df.columns for col in address_cols):\n",
    "                print(f\"Warning: Not all address columns found in {file_path}. Skipping address merge.\")\n",
    "           \n",
    "            # Remove specified columns.\n",
    "            if columns_to_remove:\n",
    "                for col in columns_to_remove:\n",
    "                    try:\n",
    "                        df = df.drop(col, axis=1)\n",
    "                    except KeyError:\n",
    "                        print(f\"Warning: Column '{col}' not found in {file_path}. Skipping.\")\n",
    "                    except Exception as e:\n",
    "                        print(f\"An error occurred during column removal in {file_path}: {e}\")\n",
    "                        return None  # Stop processing if a general exception occurs\n",
    "            \n",
    "            # header translations.\n",
    "            if header_translations:\n",
    "                try:\n",
    "                    df = df.rename(columns=header_translations)\n",
    "                except KeyError as e:  # Handle cases where translation key is not found\n",
    "                    print(f\"Error translating headers: Key '{e}' not found in DataFrame.\")\n",
    "                except Exception as e: # Catch other potential exceptions\n",
    "                    print(f\"An error occurred during header translation: {e}\")\n",
    "                    return None\n",
    "            \n",
    "            # Convert datetime columns to ISO format strings.\n",
    "            for col in df.columns:\n",
    "                if df[col].dtype == 'datetime64[ns]':\n",
    "                    df[col] = df[col].apply(lambda x: x.isoformat() if pd.notna(x) else None)\n",
    "            \n",
    "            # Convert DataFrame to a list of dictionaries.\n",
    "            data = df.to_dict(orient='records')\n",
    "            '''\n",
    "            # Create a dictionary with metadata and the data.\n",
    "            document_meta = {\"doc_path\": file_path, \"doc_type\": \"DataBase\", \"text\": data}\n",
    "            '''\n",
    "            all_data.append(data)\n",
    "            \n",
    "        except Exception as e:\n",
    "            print(f\"Error processing file {file_path}: {e}\")\n",
    "            return None\n",
    "\n",
    "    #return json.dumps(all_data, ensure_ascii=False, indent=4)\n",
    "    return all_data"
   ]
  },
  {
   "cell_type": "code",
   "execution_count": 84,
   "id": "54af3cd4-b22d-4340-ab31-dcf3f91e1646",
   "metadata": {},
   "outputs": [],
   "source": [
    "def df_to_sql_file(df_list, output_sql_file, table_name_prefix=\"table\", if_exists='replace'):\n",
    "    try:\n",
    "        engine = create_engine('sqlite:///:memory:')\n",
    "        metadata = MetaData()\n",
    "        inspector = inspect(engine)\n",
    "\n",
    "        with open(output_sql_file, 'w', encoding='utf-8') as f:\n",
    "            for i, data in enumerate(df_list):\n",
    "                df = pd.DataFrame(data)\n",
    "                table_name = f\"{table_name_prefix}_{i}\"\n",
    "\n",
    "                # Check if DataFrame has NO ROWS *before* defining columns\n",
    "                if len(df) == 0:\n",
    "                    print(f\"Warning: DataFrame for table '{table_name}' has no rows. Skipping table creation.\")\n",
    "                    f.write(f\"-- WARNING: DataFrame for table '{table_name}' has no rows. Skipping table creation.\\n\\n\")\n",
    "                    continue\n",
    "\n",
    "                # Define columns dynamically with type mapping\n",
    "                columns = []\n",
    "                for col_name, dtype in df.dtypes.items():\n",
    "                    if pd.api.types.is_integer_dtype(dtype):\n",
    "                        col_type = Integer\n",
    "                    elif pd.api.types.is_float_dtype(dtype):\n",
    "                        col_type = Float\n",
    "                    elif pd.api.types.is_datetime64_any_dtype(dtype):\n",
    "                        col_type = DateTime\n",
    "                    elif pd.api.types.is_string_dtype(dtype) or pd.api.types.is_object_dtype(dtype):\n",
    "                        col_type = String\n",
    "                    else:\n",
    "                        col_type = String  # Default to String\n",
    "\n",
    "                    columns.append(Column(col_name, col_type))  # Correct Indentation Here\n",
    "\n",
    "                my_table = Table(table_name, metadata, *columns)\n",
    "\n",
    "\n",
    "                # Correctly handle if_exists logic with SQLAlchemy Core:\n",
    "                if if_exists == 'replace':\n",
    "                    if inspector.has_table(table_name):\n",
    "                        with engine.connect() as conn:  # Use a connection context\n",
    "                            conn.execute(my_table.drop(engine)) # Drop using the connection.\n",
    "                    metadata.create_all(engine) # Create the table.\n",
    "                elif if_exists == 'fail':\n",
    "                    if inspector.has_table(table_name):\n",
    "                        raise Exception(f\"Table '{table_name}' already exists.\")\n",
    "                    metadata.create_all(engine)\n",
    "                elif if_exists == 'append':\n",
    "                    if not inspector.has_table(table_name):\n",
    "                        metadata.create_all(engine)\n",
    "\n",
    "                f.write(f\"-- SQL commands for table: {table_name}\\n\")\n",
    "                for statement in metadata.create_all(engine, checkfirst=False):\n",
    "                    f.write(str(statement) + \";\\n\")\n",
    "\n",
    "                for index, row in df.iterrows():\n",
    "                    ins = my_table.insert().values(row.to_dict())\n",
    "                    f.write(str(ins) + \";\\n\")\n",
    "\n",
    "                f.write(\"\\n\")\n",
    "\n",
    "        print(f\"DataFrames written to SQL file: {output_sql_file}\")\n",
    "\n",
    "    except Exception as e:\n",
    "        print(f\"Error writing DataFrames to SQL file: {e}\")\n",
    "\n",
    "    finally:\n",
    "        engine.dispose()"
   ]
  },
  {
   "cell_type": "code",
   "execution_count": 85,
   "id": "a4a7cc08-5e50-48ff-b5b3-432c4116dfb2",
   "metadata": {},
   "outputs": [
    {
     "name": "stdout",
     "output_type": "stream",
     "text": [
      "Processing file: Data_test\\Raw Data\\72NK.T1.2024test.xlsx\n",
      "Warning: Column 'ma hq' not found in Data_test\\Raw Data\\72NK.T1.2024test.xlsx. Skipping.\n",
      "Warning: Column 'ma hai quan' not found in Data_test\\Raw Data\\72NK.T1.2024test.xlsx. Skipping.\n",
      "Warning: Column 'ma chi cuc' not found in Data_test\\Raw Data\\72NK.T1.2024test.xlsx. Skipping.\n",
      "Warning: Column 'ten hai quan' not found in Data_test\\Raw Data\\72NK.T1.2024test.xlsx. Skipping.\n",
      "Warning: Column 'dia diem cho thong quan' not found in Data_test\\Raw Data\\72NK.T1.2024test.xlsx. Skipping.\n",
      "Warning: Column 'dia diem cho thong quan' not found in Data_test\\Raw Data\\72NK.T1.2024test.xlsx. Skipping.\n",
      "Warning: Column 'dia diem do hang' not found in Data_test\\Raw Data\\72NK.T1.2024test.xlsx. Skipping.\n",
      "Warning: Column 'dia diem xep hang' not found in Data_test\\Raw Data\\72NK.T1.2024test.xlsx. Skipping.\n",
      "Warning: Column 'p.tien v.chuyen' not found in Data_test\\Raw Data\\72NK.T1.2024test.xlsx. Skipping.\n",
      "Warning: Column 'tri gia' not found in Data_test\\Raw Data\\72NK.T1.2024test.xlsx. Skipping.\n",
      "Processing file: Data_test\\Raw Data\\72NK.T3.2024test.xlsx\n",
      "Warning: Column 'ma hq' not found in Data_test\\Raw Data\\72NK.T3.2024test.xlsx. Skipping.\n",
      "Warning: Column 'ma hai quan' not found in Data_test\\Raw Data\\72NK.T3.2024test.xlsx. Skipping.\n",
      "Warning: Column 'ma chi cuc' not found in Data_test\\Raw Data\\72NK.T3.2024test.xlsx. Skipping.\n",
      "Warning: Column 'ten hai quan' not found in Data_test\\Raw Data\\72NK.T3.2024test.xlsx. Skipping.\n",
      "Warning: Column 'so dt' not found in Data_test\\Raw Data\\72NK.T3.2024test.xlsx. Skipping.\n",
      "Warning: Column 'dia diem cho thong quan' not found in Data_test\\Raw Data\\72NK.T3.2024test.xlsx. Skipping.\n",
      "Warning: Column 'dia diem cho thong quan' not found in Data_test\\Raw Data\\72NK.T3.2024test.xlsx. Skipping.\n",
      "Warning: Column 'dia diem do hang' not found in Data_test\\Raw Data\\72NK.T3.2024test.xlsx. Skipping.\n",
      "Warning: Column 'dia diem xep hang' not found in Data_test\\Raw Data\\72NK.T3.2024test.xlsx. Skipping.\n",
      "Warning: Column 'p.tien v.chuyen' not found in Data_test\\Raw Data\\72NK.T3.2024test.xlsx. Skipping.\n",
      "Warning: Column 'tri gia' not found in Data_test\\Raw Data\\72NK.T3.2024test.xlsx. Skipping.\n",
      "Processing file: Data_test\\Raw Data\\72XK.T6.2024test.xlsx\n",
      "Warning: Column 'ma hq' not found in Data_test\\Raw Data\\72XK.T6.2024test.xlsx. Skipping.\n",
      "Warning: Column 'ma hai quan' not found in Data_test\\Raw Data\\72XK.T6.2024test.xlsx. Skipping.\n",
      "Warning: Column 'ma chi cuc' not found in Data_test\\Raw Data\\72XK.T6.2024test.xlsx. Skipping.\n",
      "Warning: Column 'ten hai quan' not found in Data_test\\Raw Data\\72XK.T6.2024test.xlsx. Skipping.\n",
      "Warning: Column 'so dt' not found in Data_test\\Raw Data\\72XK.T6.2024test.xlsx. Skipping.\n",
      "Warning: Column 'dia diem cho thong quan' not found in Data_test\\Raw Data\\72XK.T6.2024test.xlsx. Skipping.\n",
      "Warning: Column 'dia diem cho thong quan' not found in Data_test\\Raw Data\\72XK.T6.2024test.xlsx. Skipping.\n",
      "Warning: Column 'dia diem do hang' not found in Data_test\\Raw Data\\72XK.T6.2024test.xlsx. Skipping.\n",
      "Warning: Column 'dia diem xep hang' not found in Data_test\\Raw Data\\72XK.T6.2024test.xlsx. Skipping.\n",
      "Warning: Column 'p.tien v.chuyen' not found in Data_test\\Raw Data\\72XK.T6.2024test.xlsx. Skipping.\n",
      "Warning: Column 'tri gia' not found in Data_test\\Raw Data\\72XK.T6.2024test.xlsx. Skipping.\n",
      "Processing file: Data_test\\Raw Data\\72XK.T8.2021test.xlsx\n",
      "Warning: Not all address columns found in Data_test\\Raw Data\\72XK.T8.2021test.xlsx. Skipping address merge.\n",
      "Warning: Column 'ma hq' not found in Data_test\\Raw Data\\72XK.T8.2021test.xlsx. Skipping.\n",
      "Warning: Column 'ma hai quan' not found in Data_test\\Raw Data\\72XK.T8.2021test.xlsx. Skipping.\n",
      "Warning: Column 'ma chi cuc' not found in Data_test\\Raw Data\\72XK.T8.2021test.xlsx. Skipping.\n",
      "Warning: Column 'ten hai quan' not found in Data_test\\Raw Data\\72XK.T8.2021test.xlsx. Skipping.\n",
      "Warning: Column 'so dt' not found in Data_test\\Raw Data\\72XK.T8.2021test.xlsx. Skipping.\n",
      "Warning: Column 'dia diem cho thong quan' not found in Data_test\\Raw Data\\72XK.T8.2021test.xlsx. Skipping.\n",
      "Warning: Column 'dia diem cho thong quan' not found in Data_test\\Raw Data\\72XK.T8.2021test.xlsx. Skipping.\n",
      "Warning: Column 'dia diem do hang' not found in Data_test\\Raw Data\\72XK.T8.2021test.xlsx. Skipping.\n",
      "Warning: Column 'dia diem xep hang' not found in Data_test\\Raw Data\\72XK.T8.2021test.xlsx. Skipping.\n",
      "Warning: Column 'p.tien v.chuyen' not found in Data_test\\Raw Data\\72XK.T8.2021test.xlsx. Skipping.\n",
      "Warning: Column 'tri gia' not found in Data_test\\Raw Data\\72XK.T8.2021test.xlsx. Skipping.\n",
      "Combined DataFrame:\n"
     ]
    }
   ],
   "source": [
    "columns_to_remove = [\n",
    "    'MA HQ', 'MA HAI QUAN', 'MA CHI CUC',\n",
    "    'TEN HAI QUAN', 'SO DT', 'DIA DIEM CHO THONG QUAN',\n",
    "    'DIA DIEM CHO THONG QUAN',\n",
    "    'DIA DIEM DO HANG', 'DIA DIEM XEP HANG', 'P.TIEN V.CHUYEN', 'Tri GIA'\n",
    "]\n",
    "address_cols = ['dia chi 1', 'dia chi 2', 'dia chi 3', 'dia chi 4']\n",
    "\n",
    "header_translations = {\n",
    "    \"MA LH\": \"Import_Code\", \n",
    "    \"NHA NHAP KHAU\" : \"Cty nhập khẩu\",\n",
    "    \"DIA CHI\" : \"Địa chỉ cty nhập \",\n",
    "    \"DON VI DOI TAC\":\"Cty bán hàng\", \n",
    "    \"DIA CHI DON VI DOI TAC\" : \"Địa chỉ cty bán hàng\",\n",
    "    \"DK TT\": \"Hình Thức Thanh Toán\",\n",
    "    \"DK GH\": \"Incoterm\",\n",
    "    \"TI GIA\": \"Exchange_Rate\",\n",
    "    \"NGAY\" : \"Date\",\n",
    "    \"MA HANG\" : \"HSCODE\",\n",
    "    \"TEN HANG\": \"Product_Info\", \n",
    "    \"LUONG\": \"Quantity\",\n",
    "    \"DVT\" : \"Unit\",\n",
    "    \"DON GIA\" : \"Unit_Price\",\n",
    "    \"MA NT\": \"Payment_Currency\",\n",
    "    \"THUE XNK\" : \"Import_Tax\",\n",
    "    \"XUAT XU\" : \"Origin\", \n",
    "    \"MA DOANH NGHIEP\" : \"Tax ID\",\n",
    "}\n",
    "combined_df = combine_excel_files(knowledge_base_path, columns_to_remove, address_cols, header_translations)\n",
    "\n",
    "if combined_df is not None:\n",
    "    print(\"Combined DataFrame:\")\n",
    "    #print(combined_df)  # Keep this for checking the data\n"
   ]
  },
  {
   "cell_type": "code",
   "execution_count": 86,
   "id": "e90db2ac-5e98-43ce-842b-9854e0624902",
   "metadata": {},
   "outputs": [
    {
     "name": "stdout",
     "output_type": "stream",
     "text": [
      "Created 85 LangChain documents.\n"
     ]
    }
   ],
   "source": [
    "# Convert to LangChain Documents(this is the crucial step)\n",
    "langchain_documents = []\n",
    "for file_data in combined_df:  # Iterate through each list of dictionaries (each Excel file's data)\n",
    "    for doc in file_data: # Iterate through the dictionaries in the list. Each dict is one row.\n",
    "        metadata = {'source_file': 'DataBase'} # Add metadata, if you have a doc_path\n",
    "        page_content = \"\"\n",
    "        for key, value in doc.items():\n",
    "                page_content += f\"{key}: {value}\\n\"\n",
    "        langchain_doc = Document(page_content=page_content, metadata=metadata)\n",
    "        langchain_documents.append(langchain_doc)\n",
    "\n",
    "print(f\"Created {len(langchain_documents)} LangChain documents.\")"
   ]
  },
  {
   "cell_type": "code",
   "execution_count": 87,
   "id": "5ec9452b-9cda-4d02-9093-6170e84cb646",
   "metadata": {},
   "outputs": [
    {
     "data": {
      "text/plain": [
       "Document(metadata={'source_file': 'DataBase'}, page_content='Import_Code: A12\\nTax ID: 101095255\\nCty nhập khẩu: CôNG TY TNHH HANWA SMC STEEL SERVICE Hà NộI\\nĐịa chỉ cty nhập : Lô số 47, Khu công nghiệp Quang Minh, thị trấn Quang Minh, huyện Mê Linh, TP Hà Nội, Việt Nam\\nCty bán hàng: GUANGZHOU HANWA TRADING CO., LTD.\\nIncoterm: CFR\\nPayment_Currency: USD\\nExchange_Rate: 24060.0\\nDate: 2024-01-03T00:00:00\\nHSCODE: 72259190\\nProduct_Info: Thép hợp kim (Bo > 0.0008%), dạng cuộn, cán phẳng, được mạ kẽm bằng phương pháp điện phân, mác SECC-MD1 (tương đương SECC JIS G3313), mới 100%. KT: 1.6 mm x 1050 mm x Cuộn.Mã số chương 98 : 98110010\\nQuantity: 19910\\nUnit: KGM\\nUnit_Price: 0.861\\nĐịa chỉ cty bán hàng: UNIT 3701-3703, PROFIT PLAZA NO. 76. WEST HUANGPU ROAD GUANGZHOU CHINA, 510623\\n')"
      ]
     },
     "execution_count": 87,
     "metadata": {},
     "output_type": "execute_result"
    }
   ],
   "source": [
    "langchain_documents[1]"
   ]
  },
  {
   "cell_type": "code",
   "execution_count": 88,
   "id": "70f61ea8-4881-4d40-af04-04691a7f0c83",
   "metadata": {},
   "outputs": [],
   "source": [
    "text_splitter = CharacterTextSplitter(chunk_size=1000, chunk_overlap=200)\n",
    "chunks = text_splitter.split_documents(langchain_documents)"
   ]
  },
  {
   "cell_type": "code",
   "execution_count": 89,
   "id": "dd8765a5-9395-470e-a7ed-53de5aafe3de",
   "metadata": {},
   "outputs": [
    {
     "data": {
      "text/plain": [
       "85"
      ]
     },
     "execution_count": 89,
     "metadata": {},
     "output_type": "execute_result"
    }
   ],
   "source": [
    "len(chunks)"
   ]
  },
  {
   "cell_type": "code",
   "execution_count": 90,
   "id": "9db62cce-9cfe-4b21-ab07-e3eaf3bacfe0",
   "metadata": {},
   "outputs": [
    {
     "name": "stdout",
     "output_type": "stream",
     "text": [
      "page_content='Import_Code: A12\n",
      "Tax ID: 101095255\n",
      "Cty nhập khẩu: CôNG TY TNHH HANWA SMC STEEL SERVICE Hà NộI\n",
      "Địa chỉ cty nhập : Lô số 47, Khu công nghiệp Quang Minh, thị trấn Quang Minh, huyện Mê Linh, TP Hà Nội, Việt Nam\n",
      "Cty bán hàng: GUANGZHOU HANWA TRADING CO., LTD.\n",
      "Incoterm: CFR\n",
      "Payment_Currency: USD\n",
      "Exchange_Rate: 24060.0\n",
      "Date: 2024-01-03T00:00:00\n",
      "HSCODE: 72259190\n",
      "Product_Info: Thép hợp kim (Bo > 0.0008%), dạng cuộn, cán phẳng, được mạ kẽm bằng phương pháp điện phân, mác SECC-MD1 (tương đương SECC JIS G3313), mới 100%. KT: 1.6 mm x 1050 mm x Cuộn.Mã số chương 98 : 98110010\n",
      "Quantity: 19910\n",
      "Unit: KGM\n",
      "Unit_Price: 0.861\n",
      "Địa chỉ cty bán hàng: UNIT 3701-3703, PROFIT PLAZA NO. 76. WEST HUANGPU ROAD GUANGZHOU CHINA, 510623' metadata={'source_file': 'DataBase'}\n"
     ]
    }
   ],
   "source": [
    "print(chunks[1])"
   ]
  },
  {
   "cell_type": "code",
   "execution_count": 91,
   "id": "a9b39e79-0a82-45dd-b081-457fdfab779b",
   "metadata": {},
   "outputs": [],
   "source": [
    "# Choose a suitable model.  'all-mpnet-base-v2' is a good general-purpose option.\n",
    "embeddings = SentenceTransformerEmbeddings(model_name=\"all-mpnet-base-v2\")  # Or another Sentence Transformer model\n",
    "# Delete if already exists\n",
    "if os.path.exists(db_name):\n",
    "    Chroma(persist_directory=db_name, embedding_function=embeddings).delete_collection()"
   ]
  },
  {
   "cell_type": "code",
   "execution_count": 92,
   "id": "f8c28d07-48aa-40c4-a4c4-b445b438c120",
   "metadata": {},
   "outputs": [],
   "source": [
    "vectorstore = Chroma.from_documents(documents=chunks, embedding=embeddings, persist_directory=db_name) # Use the chunks (which are LangChain Documents)"
   ]
  },
  {
   "cell_type": "code",
   "execution_count": 93,
   "id": "a853f7a9-55fe-4c19-b3f6-fcadfd08f5ab",
   "metadata": {},
   "outputs": [
    {
     "name": "stdout",
     "output_type": "stream",
     "text": [
      "There are 85 vectors with 768 dimensions in the vector store\n"
     ]
    }
   ],
   "source": [
    "# Let's investigate the vectors\n",
    "\n",
    "collection = vectorstore._collection\n",
    "count = collection.count()\n",
    "\n",
    "sample_embedding = collection.get(limit=1, include=[\"embeddings\"])[\"embeddings\"][0]\n",
    "dimensions = len(sample_embedding)\n",
    "print(f\"There are {count:,} vectors with {dimensions:,} dimensions in the vector store\")"
   ]
  },
  {
   "cell_type": "code",
   "execution_count": 94,
   "id": "0d2d769f-5377-4c7c-9eaf-dda523abe934",
   "metadata": {},
   "outputs": [
    {
     "name": "stdout",
     "output_type": "stream",
     "text": [
      "Document types found: DataBase\n"
     ]
    }
   ],
   "source": [
    "doc_types = set(chunk.metadata['source_file'] for chunk in chunks)\n",
    "print(f\"Document types found: {', '.join(doc_types)}\")"
   ]
  },
  {
   "cell_type": "code",
   "execution_count": null,
   "id": "294bf4e1-4f5d-4d87-9343-c52fbd39f9b3",
   "metadata": {},
   "outputs": [],
   "source": [
    "'''\n",
    "results = collection.get(include=['embeddings', 'documents', 'metadatas'])\n",
    "print(results)\n",
    "'''\n",
    "results = collection.get(include=['embeddings'])\n",
    "print(results)"
   ]
  },
  {
   "cell_type": "code",
   "execution_count": 95,
   "id": "7c7b7c68-5a04-4b21-ba1d-2947078b3260",
   "metadata": {},
   "outputs": [],
   "source": [
    "# Prework\n",
    "result = collection.get(include=['embeddings', 'documents', 'metadatas'])\n",
    "vectors = np.array(result['embeddings'])\n",
    "documents = result['documents']\n",
    "doc_types = [metadata['source_file'] for metadata in result['metadatas']]\n",
    "colors = [['blue'][['DataBase'].index(t)] for t in doc_types]"
   ]
  },
  {
   "cell_type": "code",
   "execution_count": 96,
   "id": "10cf6831-9d7d-4457-a726-94b8914192c0",
   "metadata": {},
   "outputs": [
    {
     "data": {
      "application/vnd.plotly.v1+json": {
       "config": {
        "plotlyServerURL": "https://plot.ly"
       },
       "data": [
        {
         "hoverinfo": "text",
         "marker": {
          "color": [
           "blue",
           "blue",
           "blue",
           "blue",
           "blue",
           "blue",
           "blue",
           "blue",
           "blue",
           "blue",
           "blue",
           "blue",
           "blue",
           "blue",
           "blue",
           "blue",
           "blue",
           "blue",
           "blue",
           "blue",
           "blue",
           "blue",
           "blue",
           "blue",
           "blue",
           "blue",
           "blue",
           "blue",
           "blue",
           "blue",
           "blue",
           "blue",
           "blue",
           "blue",
           "blue",
           "blue",
           "blue",
           "blue",
           "blue",
           "blue",
           "blue",
           "blue",
           "blue",
           "blue",
           "blue",
           "blue",
           "blue",
           "blue",
           "blue",
           "blue",
           "blue",
           "blue",
           "blue",
           "blue",
           "blue",
           "blue",
           "blue",
           "blue",
           "blue",
           "blue",
           "blue",
           "blue",
           "blue",
           "blue",
           "blue",
           "blue",
           "blue",
           "blue",
           "blue",
           "blue",
           "blue",
           "blue",
           "blue",
           "blue",
           "blue",
           "blue",
           "blue",
           "blue",
           "blue",
           "blue",
           "blue",
           "blue",
           "blue",
           "blue",
           "blue"
          ],
          "opacity": 0.8,
          "size": 5
         },
         "mode": "markers",
         "text": [
          "Type: DataBase<br>Text: Import_Code: A12\nTax ID: 101095255\nCty nhập khẩu: CôNG TY TNHH HANWA SMC STEEL SERVICE Hà NộI\nĐịa ch...",
          "Type: DataBase<br>Text: Import_Code: A12\nTax ID: 101095255\nCty nhập khẩu: CôNG TY TNHH HANWA SMC STEEL SERVICE Hà NộI\nĐịa ch...",
          "Type: DataBase<br>Text: Import_Code: A12\nTax ID: 101095255\nCty nhập khẩu: CôNG TY TNHH HANWA SMC STEEL SERVICE Hà NộI\nĐịa ch...",
          "Type: DataBase<br>Text: Import_Code: A12\nTax ID: 101095255\nCty nhập khẩu: CôNG TY TNHH HANWA SMC STEEL SERVICE Hà NộI\nĐịa ch...",
          "Type: DataBase<br>Text: Import_Code: A12\nTax ID: 101095255\nCty nhập khẩu: CôNG TY TNHH HANWA SMC STEEL SERVICE Hà NộI\nĐịa ch...",
          "Type: DataBase<br>Text: Import_Code: A12\nTax ID: 101095255\nCty nhập khẩu: CôNG TY TNHH HANWA SMC STEEL SERVICE Hà NộI\nĐịa ch...",
          "Type: DataBase<br>Text: Import_Code: A12\nTax ID: 101095255\nCty nhập khẩu: CôNG TY TNHH HANWA SMC STEEL SERVICE Hà NộI\nĐịa ch...",
          "Type: DataBase<br>Text: Import_Code: A12\nTax ID: 101095255\nCty nhập khẩu: CôNG TY TNHH HANWA SMC STEEL SERVICE Hà NộI\nĐịa ch...",
          "Type: DataBase<br>Text: Import_Code: A12\nTax ID: 101095255\nCty nhập khẩu: CôNG TY TNHH HANWA SMC STEEL SERVICE Hà NộI\nĐịa ch...",
          "Type: DataBase<br>Text: Import_Code: A12\nTax ID: 101095255\nCty nhập khẩu: CôNG TY TNHH HANWA SMC STEEL SERVICE Hà NộI\nĐịa ch...",
          "Type: DataBase<br>Text: Import_Code: A12\nTax ID: 101095255\nCty nhập khẩu: CôNG TY TNHH HANWA SMC STEEL SERVICE Hà NộI\nĐịa ch...",
          "Type: DataBase<br>Text: Import_Code: A12\nTax ID: 101095255\nCty nhập khẩu: CôNG TY TNHH HANWA SMC STEEL SERVICE Hà NộI\nĐịa ch...",
          "Type: DataBase<br>Text: Import_Code: A12\nTax ID: 101095255\nCty nhập khẩu: CôNG TY TNHH HANWA SMC STEEL SERVICE Hà NộI\nĐịa ch...",
          "Type: DataBase<br>Text: Import_Code: A12\nTax ID: 101095255\nCty nhập khẩu: CôNG TY TNHH HANWA SMC STEEL SERVICE Hà NộI\nĐịa ch...",
          "Type: DataBase<br>Text: Import_Code: A12\nTax ID: 101095255\nCty nhập khẩu: CôNG TY TNHH HANWA SMC STEEL SERVICE Hà NộI\nĐịa ch...",
          "Type: DataBase<br>Text: Import_Code: A12\nTax ID: 101095255\nCty nhập khẩu: CôNG TY TNHH HANWA SMC STEEL SERVICE Hà NộI\nĐịa ch...",
          "Type: DataBase<br>Text: Import_Code: A12\nTax ID: 101095255\nCty nhập khẩu: CôNG TY TNHH HANWA SMC STEEL SERVICE Hà NộI\nĐịa ch...",
          "Type: DataBase<br>Text: Import_Code: A12\nTax ID: 101095255\nCty nhập khẩu: CôNG TY TNHH HANWA SMC STEEL SERVICE Hà NộI\nĐịa ch...",
          "Type: DataBase<br>Text: Import_Code: A12\nTax ID: 101095255\nCty nhập khẩu: CôNG TY TNHH HANWA SMC STEEL SERVICE Hà NộI\nĐịa ch...",
          "Type: DataBase<br>Text: Import_Code: A12\nTax ID: 101095255\nCty nhập khẩu: CôNG TY TNHH HANWA SMC STEEL SERVICE Hà NộI\nĐịa ch...",
          "Type: DataBase<br>Text: Import_Code: E31\nTax ID: 3502447502\nCty nhập khẩu: CôNG TY TNHH VSSC STEEL CENTER\nĐịa chỉ cty nhập :...",
          "Type: DataBase<br>Text: Import_Code: E31\nTax ID: 3502447502\nCty nhập khẩu: CôNG TY TNHH VSSC STEEL CENTER\nĐịa chỉ cty nhập :...",
          "Type: DataBase<br>Text: Import_Code: E31\nTax ID: 3502447502\nCty nhập khẩu: CôNG TY TNHH VSSC STEEL CENTER\nĐịa chỉ cty nhập :...",
          "Type: DataBase<br>Text: Import_Code: E31\nTax ID: 3502447502\nCty nhập khẩu: CôNG TY TNHH VSSC STEEL CENTER\nĐịa chỉ cty nhập :...",
          "Type: DataBase<br>Text: Import_Code: E31\nTax ID: 3502447502\nCty nhập khẩu: CôNG TY TNHH VSSC STEEL CENTER\nĐịa chỉ cty nhập :...",
          "Type: DataBase<br>Text: Import_Code: E31\nTax ID: 3502447502\nCty nhập khẩu: CôNG TY TNHH VSSC STEEL CENTER\nĐịa chỉ cty nhập :...",
          "Type: DataBase<br>Text: Import_Code: E31\nTax ID: 3502447502\nCty nhập khẩu: CôNG TY TNHH VSSC STEEL CENTER\nĐịa chỉ cty nhập :...",
          "Type: DataBase<br>Text: Import_Code: E13\nTax ID: 3603212923\nCty nhập khẩu: CôNG TY TNHH SMC MANUFACTURING (VIệT NAM)\nĐịa chỉ...",
          "Type: DataBase<br>Text: Import_Code: A41\nTax ID: 105324298\nCty nhập khẩu: Công ty TNHH Marubeni- Itochu Steel Việt Nam\nĐịa c...",
          "Type: DataBase<br>Text: Import_Code: A11\nTax ID: 312956256\nCty nhập khẩu: Công Ty TNHH Thép Không Gỉ Thiên Long\nĐịa chỉ cty ...",
          "Type: DataBase<br>Text: Import_Code: A11\nTax ID: 312956256\nCty nhập khẩu: Công Ty TNHH Thép Không Gỉ Thiên Long\nĐịa chỉ cty ...",
          "Type: DataBase<br>Text: Import_Code: A12\nTax ID: 200504396\nCty nhập khẩu: Công Ty TNHH Phát Triển, Thương Mại Và Sản Xuất Đạ...",
          "Type: DataBase<br>Text: Import_Code: A11\nTax ID: 109115665\nCty nhập khẩu: CôNG TY TNHH KINH DOANH THéP HOàNG MINH\nĐịa chỉ ct...",
          "Type: DataBase<br>Text: Import_Code: A11\nTax ID: 302176553\nCty nhập khẩu: Công Ty TNHH Thương Mại & Dịch Vụ Quang Mười\nĐịa c...",
          "Type: DataBase<br>Text: Import_Code: A11\nTax ID: 302176553\nCty nhập khẩu: Công Ty TNHH Thương Mại & Dịch Vụ Quang Mười\nĐịa c...",
          "Type: DataBase<br>Text: Import_Code: A11\nTax ID: 302176553\nCty nhập khẩu: Công Ty TNHH Thương Mại & Dịch Vụ Quang Mười\nĐịa c...",
          "Type: DataBase<br>Text: Import_Code: A11\nTax ID: 302176553\nCty nhập khẩu: Công Ty TNHH Thương Mại & Dịch Vụ Quang Mười\nĐịa c...",
          "Type: DataBase<br>Text: Import_Code: A11\nTax ID: 302176553\nCty nhập khẩu: Công Ty TNHH Thương Mại & Dịch Vụ Quang Mười\nĐịa c...",
          "Type: DataBase<br>Text: Import_Code: A12\nTax ID: 900869113\nCty nhập khẩu: CôNG TY Cổ PHầN THéP SAO VIệT HưNG YêN\nĐịa chỉ cty...",
          "Type: DataBase<br>Text: Import_Code: A12\nTax ID: 900869113\nCty nhập khẩu: CôNG TY Cổ PHầN THéP SAO VIệT HưNG YêN\nĐịa chỉ cty...",
          "Type: DataBase<br>Text: Import_Code: A12\nTax ID: 2400576842\nCty nhập khẩu: CôNG TY TNHH MYUNGBO VINA\nĐịa chỉ cty nhập : Lô B...",
          "Type: DataBase<br>Text: Import_Code: A12\nTax ID: 2300796280\nCty nhập khẩu: CôNG TY Cổ PHầN PHáT TRIểN MôI TRườNG BìNH NGUYêN...",
          "Type: DataBase<br>Text: Import_Code: A12\nTax ID: 900847536\nCty nhập khẩu: Công Ty Cổ Phần Đầu Tư Phát Triển Công Nghiệp & Mô...",
          "Type: DataBase<br>Text: Import_Code: A12\nTax ID: 900847536\nCty nhập khẩu: Công Ty Cổ Phần Đầu Tư Phát Triển Công Nghiệp & Mô...",
          "Type: DataBase<br>Text: Import_Code: A11\nTax ID: 308418304\nCty nhập khẩu: CôNG TY TNHH THéP KIM QUốC\nĐịa chỉ cty nhập : 222/...",
          "Type: DataBase<br>Text: Import_Code: A11\nTax ID: 308418304\nCty nhập khẩu: CôNG TY TNHH THéP KIM QUốC\nĐịa chỉ cty nhập : 222/...",
          "Type: DataBase<br>Text: Import_Code: A11\nTax ID: 308418304\nCty nhập khẩu: CôNG TY TNHH THéP KIM QUốC\nĐịa chỉ cty nhập : 222/...",
          "Type: DataBase<br>Text: Import_Code: B11\nTax ID: 1101982682\nnha xuat khau: CôNG TY TNHH Cơ KHí XâY DựNG BảO DũNG\ndia chi xk:...",
          "Type: DataBase<br>Text: Import_Code: B11\nTax ID: 302602610\nnha xuat khau: Công Ty TNHH Meinan (Việt Nam)\ndia chi xk: Lô 67, ...",
          "Type: DataBase<br>Text: Import_Code: B11\nTax ID: 302602610\nnha xuat khau: Công Ty TNHH Meinan (Việt Nam)\ndia chi xk: Lô 67, ...",
          "Type: DataBase<br>Text: Import_Code: B11\nTax ID: 302602610\nnha xuat khau: Công Ty TNHH Meinan (Việt Nam)\ndia chi xk: Lô 67, ...",
          "Type: DataBase<br>Text: Import_Code: E52\nTax ID: 3401196669\nnha xuat khau: CôNG TY TNHH VINA SAPPHIRE\ndia chi xk: Lô A3.1 Cụ...",
          "Type: DataBase<br>Text: Import_Code: E52\nTax ID: 3401196669\nnha xuat khau: CôNG TY TNHH VINA SAPPHIRE\ndia chi xk: Lô A3.1 Cụ...",
          "Type: DataBase<br>Text: Import_Code: E52\nTax ID: 3401196669\nnha xuat khau: CôNG TY TNHH VINA SAPPHIRE\ndia chi xk: Lô A3.1 Cụ...",
          "Type: DataBase<br>Text: Import_Code: E52\nTax ID: 3401196669\nnha xuat khau: CôNG TY TNHH VINA SAPPHIRE\ndia chi xk: Lô A3.1 Cụ...",
          "Type: DataBase<br>Text: Import_Code: E52\nTax ID: 3401196669\nnha xuat khau: CôNG TY TNHH VINA SAPPHIRE\ndia chi xk: Lô A3.1 Cụ...",
          "Type: DataBase<br>Text: Import_Code: E52\nTax ID: 3401196669\nnha xuat khau: CôNG TY TNHH VINA SAPPHIRE\ndia chi xk: Lô A3.1 Cụ...",
          "Type: DataBase<br>Text: Import_Code: E52\nTax ID: 3401196669\nnha xuat khau: CôNG TY TNHH VINA SAPPHIRE\ndia chi xk: Lô A3.1 Cụ...",
          "Type: DataBase<br>Text: Import_Code: E52\nTax ID: 3401196669\nnha xuat khau: CôNG TY TNHH VINA SAPPHIRE\ndia chi xk: Lô A3.1 Cụ...",
          "Type: DataBase<br>Text: Import_Code: G61\nTax ID: 100108663\nnha xuat khau: Tổng Công Ty Thành An\ndia chi xk: 141 Hồ Đắc Di, p...",
          "Type: DataBase<br>Text: Import_Code: G61\nTax ID: 100108663\nnha xuat khau: Tổng Công Ty Thành An\ndia chi xk: 141 Hồ Đắc Di, p...",
          "Type: DataBase<br>Text: Import_Code: G61\nTax ID: 100108663\nnha xuat khau: Tổng Công Ty Thành An\ndia chi xk: 141 Hồ Đắc Di, p...",
          "Type: DataBase<br>Text: Import_Code: G61\nTax ID: 100108663\nnha xuat khau: Tổng Công Ty Thành An\ndia chi xk: 141 Hồ Đắc Di, p...",
          "Type: DataBase<br>Text: Import_Code: G61\nTax ID: 100108663\nnha xuat khau: Tổng Công Ty Thành An\ndia chi xk: 141 Hồ Đắc Di, p...",
          "Type: DataBase<br>Text: Import_Code: G61\nTax ID: 100108663\nnha xuat khau: Tổng Công Ty Thành An\ndia chi xk: 141 Hồ Đắc Di, p...",
          "Type: DataBase<br>Text: Import_Code: G61\nTax ID: 100108663\nnha xuat khau: Tổng Công Ty Thành An\ndia chi xk: 141 Hồ Đắc Di, p...",
          "Type: DataBase<br>Text: Date: 01/08/2021\nTax ID: 800740412\nnha xuat khau: Công ty cổ phần luyện kim Tân Nguyên Hải Dương Việ...",
          "Type: DataBase<br>Text: Date: 01/08/2021\nTax ID: 3700483421\nnha xuat khau: CôNG TY TNHH TAKAKO VIệT NAM\ndia chi xk: 27 Đại L...",
          "Type: DataBase<br>Text: Date: 01/08/2021\nTax ID: 2300852009\nnha xuat khau: Công ty TNHH SAMSUNG DISPLAY Việt Nam\ndia chi xk:...",
          "Type: DataBase<br>Text: Date: 01/08/2021\nTax ID: 2300852009\nnha xuat khau: Công ty TNHH SAMSUNG DISPLAY Việt Nam\ndia chi xk:...",
          "Type: DataBase<br>Text: Date: 01/08/2021\nTax ID: 201905270\nnha xuat khau: CôNG TY TNHH Cơ KHí EBA VIệT NAM\ndia chi xk: Số 11...",
          "Type: DataBase<br>Text: Date: 01/08/2021\nTax ID: 2500503799\nnha xuat khau: Công ty TNHH UJU VINA\ndia chi xk: SÓ 55, LÔ CN 12...",
          "Type: DataBase<br>Text: Date: 01/08/2021\nTax ID: 2500503799\nnha xuat khau: Công ty TNHH UJU VINA\ndia chi xk: SÓ 55, LÔ CN 12...",
          "Type: DataBase<br>Text: Date: 01/08/2021\nTax ID: 2500503799\nnha xuat khau: Công ty TNHH UJU VINA\ndia chi xk: SÓ 55, LÔ CN 12...",
          "Type: DataBase<br>Text: Date: 01/08/2021\nTax ID: 801224675\nnha xuat khau: CôNG TY TNHH LMS VINA\ndia chi xk: Lô đất XN3-1E1,X...",
          "Type: DataBase<br>Text: Date: 01/08/2021\nTax ID: 2500282740\nnha xuat khau: CôNG TY TNHH JAHWA VINA\ndia chi xk: Lô CN10, KCN ...",
          "Type: DataBase<br>Text: Date: 01/08/2021\nTax ID: 3700483421\nnha xuat khau: CôNG TY TNHH TAKAKO VIệT NAM\ndia chi xk: 27 Đại L...",
          "Type: DataBase<br>Text: Date: 01/08/2021\nTax ID: 3700483421\nnha xuat khau: CôNG TY TNHH TAKAKO VIệT NAM\ndia chi xk: 27 Đại L...",
          "Type: DataBase<br>Text: Date: 01/08/2021\nTax ID: 2300852009\nnha xuat khau: Công ty TNHH SAMSUNG DISPLAY Việt Nam\ndia chi xk:...",
          "Type: DataBase<br>Text: Date: 01/08/2021\nTax ID: 2300852009\nnha xuat khau: Công ty TNHH SAMSUNG DISPLAY Việt Nam\ndia chi xk:...",
          "Type: DataBase<br>Text: Date: 01/08/2021\nTax ID: 2300852009\nnha xuat khau: Công ty TNHH SAMSUNG DISPLAY Việt Nam\ndia chi xk:...",
          "Type: DataBase<br>Text: Date: 01/08/2021\nTax ID: 2300852009\nnha xuat khau: Công ty TNHH SAMSUNG DISPLAY Việt Nam\ndia chi xk:...",
          "Type: DataBase<br>Text: Date: 01/08/2021\nTax ID: 2300852009\nnha xuat khau: Công ty TNHH SAMSUNG DISPLAY Việt Nam\ndia chi xk:...",
          "Type: DataBase<br>Text: Date: 01/08/2021\nTax ID: 201934514\nnha xuat khau: CôNG TY TNHH ĐIệN MáY ĐạI DươNG (HảI PHòNG)\ndia ch...",
          "Type: DataBase<br>Text: Date: 01/08/2021\nTax ID: 2300852009\nnha xuat khau: Công ty TNHH SAMSUNG DISPLAY Việt Nam\ndia chi xk:..."
         ],
         "type": "scatter3d",
         "x": [
          31.863077,
          17.162235,
          54.817387,
          -18.577906,
          46.771072,
          -14.454943,
          0.45719764,
          20.671675,
          -34.187786,
          36.020622,
          14.408168,
          56.397964,
          -13.264463,
          61.968807,
          75.065186,
          28.65274,
          -2.7675714,
          31.67158,
          -0.7729285,
          -26.85252,
          35.498745,
          -73.3294,
          28.147684,
          51.673363,
          67.053894,
          46.985996,
          16.75187,
          55.096428,
          11.575302,
          15.861786,
          45.674473,
          -15.718599,
          20.950445,
          73.7359,
          48.32252,
          58.963535,
          40.127495,
          -37.139217,
          54.58955,
          33.1499,
          -77.42164,
          -4.808206,
          -83.0552,
          -48.853287,
          5.412455,
          5.7225447,
          -0.5974721,
          16.055012,
          -3.732909,
          -44.927197,
          -61.513176,
          84.3943,
          90.96215,
          -67.31597,
          104.363495,
          123.15757,
          -93.84098,
          90.59774,
          118.621544,
          -46.194218,
          -19.564137,
          -3.1634004,
          -57.06292,
          -35.230713,
          -18.778164,
          -45.908787,
          -25.423553,
          -16.957216,
          -77.5803,
          3.5780978,
          -46.095963,
          -101.00472,
          -34.52924,
          -92.85434,
          -7.516474,
          -50.849483,
          -53.490204,
          36.74317,
          -14.229795,
          -26.684153,
          -61.649036,
          -40.799328,
          -49.372414,
          -21.10891,
          18.728083
         ],
         "y": [
          34.959473,
          69.40934,
          24.530142,
          24.885967,
          -8.461893,
          46.837933,
          38.270462,
          9.820299,
          -34.935875,
          -21.327759,
          2.9111009,
          -20.90256,
          -20.02784,
          -47.55962,
          -37.481316,
          -65.57482,
          -50.376457,
          -47.383297,
          -16.412615,
          5.002625,
          56.602207,
          11.047783,
          19.237347,
          62.672497,
          34.18666,
          24.326532,
          49.043648,
          -38.949726,
          -23.02049,
          -69.72221,
          -65.53706,
          -103.395706,
          -37.607513,
          48.81815,
          69.63832,
          79.65774,
          49.74397,
          -70.39001,
          10.4620075,
          28.702013,
          57.3879,
          -76.55927,
          -44.30261,
          63.728302,
          -108.11255,
          79.234825,
          62.423992,
          3.3813558,
          -88.98946,
          -92.50779,
          -75.1946,
          61.95457,
          -3.7564354,
          19.305544,
          12.305884,
          13.257674,
          -32.61322,
          32.240864,
          43.47583,
          23.344076,
          -3.6507683,
          -29.631308,
          -12.226986,
          -32.875652,
          23.151274,
          1.9141984,
          102.87241,
          -46.038322,
          6.02298,
          -22.784012,
          -66.51733,
          30.369944,
          44.83477,
          43.839844,
          -7.527116,
          -29.041552,
          -53.762142,
          -52.97533,
          19.592863,
          -11.578922,
          -14.470151,
          4.7554317,
          22.631273,
          -66.559,
          10.360501
         ],
         "z": [
          -39.601215,
          -35.214867,
          -12.566272,
          -82.02585,
          3.5733144,
          -49.163692,
          -16.776073,
          -14.668104,
          -47.620102,
          -37.20794,
          -60.074055,
          -73.80805,
          -76.69351,
          -36.667744,
          -3.402958,
          -38.18626,
          -29.000177,
          -4.1342564,
          -33.220448,
          -47.258766,
          -117.52584,
          -52.151722,
          -112.11602,
          -81.66188,
          -108.905464,
          -80.28778,
          -87.518974,
          100.78221,
          -116.59812,
          -87.60991,
          -82.206245,
          61.51155,
          -72.27259,
          36.117252,
          53.60855,
          20.32111,
          22.651665,
          -81.64915,
          54.647694,
          62.397404,
          -18.300955,
          36.289795,
          34.453827,
          29.449049,
          -50.13122,
          19.093008,
          44.939934,
          34.410744,
          -9.216794,
          -27.95152,
          -12.481163,
          -32.198235,
          -47.875984,
          -96.04629,
          -17.951809,
          -55.81489,
          -36.011536,
          -57.157444,
          -31.021511,
          -0.5753942,
          5.2138405,
          26.598488,
          -0.4682478,
          15.6165905,
          26.469378,
          30.543385,
          -6.9447675,
          68.80982,
          82.11009,
          105.43182,
          50.48097,
          27.315573,
          71.01264,
          49.73729,
          69.60176,
          59.73572,
          85.84267,
          59.53356,
          103.69665,
          120.39536,
          110.30349,
          85.01063,
          116.458885,
          98.1269,
          109.82322
         ]
        }
       ],
       "layout": {
        "height": 700,
        "margin": {
         "b": 10,
         "l": 10,
         "r": 20,
         "t": 40
        },
        "scene": {
         "xaxis": {
          "title": {
           "text": "x"
          }
         },
         "yaxis": {
          "title": {
           "text": "y"
          }
         },
         "zaxis": {
          "title": {
           "text": "z"
          }
         }
        },
        "template": {
         "data": {
          "bar": [
           {
            "error_x": {
             "color": "#2a3f5f"
            },
            "error_y": {
             "color": "#2a3f5f"
            },
            "marker": {
             "line": {
              "color": "#E5ECF6",
              "width": 0.5
             },
             "pattern": {
              "fillmode": "overlay",
              "size": 10,
              "solidity": 0.2
             }
            },
            "type": "bar"
           }
          ],
          "barpolar": [
           {
            "marker": {
             "line": {
              "color": "#E5ECF6",
              "width": 0.5
             },
             "pattern": {
              "fillmode": "overlay",
              "size": 10,
              "solidity": 0.2
             }
            },
            "type": "barpolar"
           }
          ],
          "carpet": [
           {
            "aaxis": {
             "endlinecolor": "#2a3f5f",
             "gridcolor": "white",
             "linecolor": "white",
             "minorgridcolor": "white",
             "startlinecolor": "#2a3f5f"
            },
            "baxis": {
             "endlinecolor": "#2a3f5f",
             "gridcolor": "white",
             "linecolor": "white",
             "minorgridcolor": "white",
             "startlinecolor": "#2a3f5f"
            },
            "type": "carpet"
           }
          ],
          "choropleth": [
           {
            "colorbar": {
             "outlinewidth": 0,
             "ticks": ""
            },
            "type": "choropleth"
           }
          ],
          "contour": [
           {
            "colorbar": {
             "outlinewidth": 0,
             "ticks": ""
            },
            "colorscale": [
             [
              0,
              "#0d0887"
             ],
             [
              0.1111111111111111,
              "#46039f"
             ],
             [
              0.2222222222222222,
              "#7201a8"
             ],
             [
              0.3333333333333333,
              "#9c179e"
             ],
             [
              0.4444444444444444,
              "#bd3786"
             ],
             [
              0.5555555555555556,
              "#d8576b"
             ],
             [
              0.6666666666666666,
              "#ed7953"
             ],
             [
              0.7777777777777778,
              "#fb9f3a"
             ],
             [
              0.8888888888888888,
              "#fdca26"
             ],
             [
              1,
              "#f0f921"
             ]
            ],
            "type": "contour"
           }
          ],
          "contourcarpet": [
           {
            "colorbar": {
             "outlinewidth": 0,
             "ticks": ""
            },
            "type": "contourcarpet"
           }
          ],
          "heatmap": [
           {
            "colorbar": {
             "outlinewidth": 0,
             "ticks": ""
            },
            "colorscale": [
             [
              0,
              "#0d0887"
             ],
             [
              0.1111111111111111,
              "#46039f"
             ],
             [
              0.2222222222222222,
              "#7201a8"
             ],
             [
              0.3333333333333333,
              "#9c179e"
             ],
             [
              0.4444444444444444,
              "#bd3786"
             ],
             [
              0.5555555555555556,
              "#d8576b"
             ],
             [
              0.6666666666666666,
              "#ed7953"
             ],
             [
              0.7777777777777778,
              "#fb9f3a"
             ],
             [
              0.8888888888888888,
              "#fdca26"
             ],
             [
              1,
              "#f0f921"
             ]
            ],
            "type": "heatmap"
           }
          ],
          "heatmapgl": [
           {
            "colorbar": {
             "outlinewidth": 0,
             "ticks": ""
            },
            "colorscale": [
             [
              0,
              "#0d0887"
             ],
             [
              0.1111111111111111,
              "#46039f"
             ],
             [
              0.2222222222222222,
              "#7201a8"
             ],
             [
              0.3333333333333333,
              "#9c179e"
             ],
             [
              0.4444444444444444,
              "#bd3786"
             ],
             [
              0.5555555555555556,
              "#d8576b"
             ],
             [
              0.6666666666666666,
              "#ed7953"
             ],
             [
              0.7777777777777778,
              "#fb9f3a"
             ],
             [
              0.8888888888888888,
              "#fdca26"
             ],
             [
              1,
              "#f0f921"
             ]
            ],
            "type": "heatmapgl"
           }
          ],
          "histogram": [
           {
            "marker": {
             "pattern": {
              "fillmode": "overlay",
              "size": 10,
              "solidity": 0.2
             }
            },
            "type": "histogram"
           }
          ],
          "histogram2d": [
           {
            "colorbar": {
             "outlinewidth": 0,
             "ticks": ""
            },
            "colorscale": [
             [
              0,
              "#0d0887"
             ],
             [
              0.1111111111111111,
              "#46039f"
             ],
             [
              0.2222222222222222,
              "#7201a8"
             ],
             [
              0.3333333333333333,
              "#9c179e"
             ],
             [
              0.4444444444444444,
              "#bd3786"
             ],
             [
              0.5555555555555556,
              "#d8576b"
             ],
             [
              0.6666666666666666,
              "#ed7953"
             ],
             [
              0.7777777777777778,
              "#fb9f3a"
             ],
             [
              0.8888888888888888,
              "#fdca26"
             ],
             [
              1,
              "#f0f921"
             ]
            ],
            "type": "histogram2d"
           }
          ],
          "histogram2dcontour": [
           {
            "colorbar": {
             "outlinewidth": 0,
             "ticks": ""
            },
            "colorscale": [
             [
              0,
              "#0d0887"
             ],
             [
              0.1111111111111111,
              "#46039f"
             ],
             [
              0.2222222222222222,
              "#7201a8"
             ],
             [
              0.3333333333333333,
              "#9c179e"
             ],
             [
              0.4444444444444444,
              "#bd3786"
             ],
             [
              0.5555555555555556,
              "#d8576b"
             ],
             [
              0.6666666666666666,
              "#ed7953"
             ],
             [
              0.7777777777777778,
              "#fb9f3a"
             ],
             [
              0.8888888888888888,
              "#fdca26"
             ],
             [
              1,
              "#f0f921"
             ]
            ],
            "type": "histogram2dcontour"
           }
          ],
          "mesh3d": [
           {
            "colorbar": {
             "outlinewidth": 0,
             "ticks": ""
            },
            "type": "mesh3d"
           }
          ],
          "parcoords": [
           {
            "line": {
             "colorbar": {
              "outlinewidth": 0,
              "ticks": ""
             }
            },
            "type": "parcoords"
           }
          ],
          "pie": [
           {
            "automargin": true,
            "type": "pie"
           }
          ],
          "scatter": [
           {
            "fillpattern": {
             "fillmode": "overlay",
             "size": 10,
             "solidity": 0.2
            },
            "type": "scatter"
           }
          ],
          "scatter3d": [
           {
            "line": {
             "colorbar": {
              "outlinewidth": 0,
              "ticks": ""
             }
            },
            "marker": {
             "colorbar": {
              "outlinewidth": 0,
              "ticks": ""
             }
            },
            "type": "scatter3d"
           }
          ],
          "scattercarpet": [
           {
            "marker": {
             "colorbar": {
              "outlinewidth": 0,
              "ticks": ""
             }
            },
            "type": "scattercarpet"
           }
          ],
          "scattergeo": [
           {
            "marker": {
             "colorbar": {
              "outlinewidth": 0,
              "ticks": ""
             }
            },
            "type": "scattergeo"
           }
          ],
          "scattergl": [
           {
            "marker": {
             "colorbar": {
              "outlinewidth": 0,
              "ticks": ""
             }
            },
            "type": "scattergl"
           }
          ],
          "scattermapbox": [
           {
            "marker": {
             "colorbar": {
              "outlinewidth": 0,
              "ticks": ""
             }
            },
            "type": "scattermapbox"
           }
          ],
          "scatterpolar": [
           {
            "marker": {
             "colorbar": {
              "outlinewidth": 0,
              "ticks": ""
             }
            },
            "type": "scatterpolar"
           }
          ],
          "scatterpolargl": [
           {
            "marker": {
             "colorbar": {
              "outlinewidth": 0,
              "ticks": ""
             }
            },
            "type": "scatterpolargl"
           }
          ],
          "scatterternary": [
           {
            "marker": {
             "colorbar": {
              "outlinewidth": 0,
              "ticks": ""
             }
            },
            "type": "scatterternary"
           }
          ],
          "surface": [
           {
            "colorbar": {
             "outlinewidth": 0,
             "ticks": ""
            },
            "colorscale": [
             [
              0,
              "#0d0887"
             ],
             [
              0.1111111111111111,
              "#46039f"
             ],
             [
              0.2222222222222222,
              "#7201a8"
             ],
             [
              0.3333333333333333,
              "#9c179e"
             ],
             [
              0.4444444444444444,
              "#bd3786"
             ],
             [
              0.5555555555555556,
              "#d8576b"
             ],
             [
              0.6666666666666666,
              "#ed7953"
             ],
             [
              0.7777777777777778,
              "#fb9f3a"
             ],
             [
              0.8888888888888888,
              "#fdca26"
             ],
             [
              1,
              "#f0f921"
             ]
            ],
            "type": "surface"
           }
          ],
          "table": [
           {
            "cells": {
             "fill": {
              "color": "#EBF0F8"
             },
             "line": {
              "color": "white"
             }
            },
            "header": {
             "fill": {
              "color": "#C8D4E3"
             },
             "line": {
              "color": "white"
             }
            },
            "type": "table"
           }
          ]
         },
         "layout": {
          "annotationdefaults": {
           "arrowcolor": "#2a3f5f",
           "arrowhead": 0,
           "arrowwidth": 1
          },
          "autotypenumbers": "strict",
          "coloraxis": {
           "colorbar": {
            "outlinewidth": 0,
            "ticks": ""
           }
          },
          "colorscale": {
           "diverging": [
            [
             0,
             "#8e0152"
            ],
            [
             0.1,
             "#c51b7d"
            ],
            [
             0.2,
             "#de77ae"
            ],
            [
             0.3,
             "#f1b6da"
            ],
            [
             0.4,
             "#fde0ef"
            ],
            [
             0.5,
             "#f7f7f7"
            ],
            [
             0.6,
             "#e6f5d0"
            ],
            [
             0.7,
             "#b8e186"
            ],
            [
             0.8,
             "#7fbc41"
            ],
            [
             0.9,
             "#4d9221"
            ],
            [
             1,
             "#276419"
            ]
           ],
           "sequential": [
            [
             0,
             "#0d0887"
            ],
            [
             0.1111111111111111,
             "#46039f"
            ],
            [
             0.2222222222222222,
             "#7201a8"
            ],
            [
             0.3333333333333333,
             "#9c179e"
            ],
            [
             0.4444444444444444,
             "#bd3786"
            ],
            [
             0.5555555555555556,
             "#d8576b"
            ],
            [
             0.6666666666666666,
             "#ed7953"
            ],
            [
             0.7777777777777778,
             "#fb9f3a"
            ],
            [
             0.8888888888888888,
             "#fdca26"
            ],
            [
             1,
             "#f0f921"
            ]
           ],
           "sequentialminus": [
            [
             0,
             "#0d0887"
            ],
            [
             0.1111111111111111,
             "#46039f"
            ],
            [
             0.2222222222222222,
             "#7201a8"
            ],
            [
             0.3333333333333333,
             "#9c179e"
            ],
            [
             0.4444444444444444,
             "#bd3786"
            ],
            [
             0.5555555555555556,
             "#d8576b"
            ],
            [
             0.6666666666666666,
             "#ed7953"
            ],
            [
             0.7777777777777778,
             "#fb9f3a"
            ],
            [
             0.8888888888888888,
             "#fdca26"
            ],
            [
             1,
             "#f0f921"
            ]
           ]
          },
          "colorway": [
           "#636efa",
           "#EF553B",
           "#00cc96",
           "#ab63fa",
           "#FFA15A",
           "#19d3f3",
           "#FF6692",
           "#B6E880",
           "#FF97FF",
           "#FECB52"
          ],
          "font": {
           "color": "#2a3f5f"
          },
          "geo": {
           "bgcolor": "white",
           "lakecolor": "white",
           "landcolor": "#E5ECF6",
           "showlakes": true,
           "showland": true,
           "subunitcolor": "white"
          },
          "hoverlabel": {
           "align": "left"
          },
          "hovermode": "closest",
          "mapbox": {
           "style": "light"
          },
          "paper_bgcolor": "white",
          "plot_bgcolor": "#E5ECF6",
          "polar": {
           "angularaxis": {
            "gridcolor": "white",
            "linecolor": "white",
            "ticks": ""
           },
           "bgcolor": "#E5ECF6",
           "radialaxis": {
            "gridcolor": "white",
            "linecolor": "white",
            "ticks": ""
           }
          },
          "scene": {
           "xaxis": {
            "backgroundcolor": "#E5ECF6",
            "gridcolor": "white",
            "gridwidth": 2,
            "linecolor": "white",
            "showbackground": true,
            "ticks": "",
            "zerolinecolor": "white"
           },
           "yaxis": {
            "backgroundcolor": "#E5ECF6",
            "gridcolor": "white",
            "gridwidth": 2,
            "linecolor": "white",
            "showbackground": true,
            "ticks": "",
            "zerolinecolor": "white"
           },
           "zaxis": {
            "backgroundcolor": "#E5ECF6",
            "gridcolor": "white",
            "gridwidth": 2,
            "linecolor": "white",
            "showbackground": true,
            "ticks": "",
            "zerolinecolor": "white"
           }
          },
          "shapedefaults": {
           "line": {
            "color": "#2a3f5f"
           }
          },
          "ternary": {
           "aaxis": {
            "gridcolor": "white",
            "linecolor": "white",
            "ticks": ""
           },
           "baxis": {
            "gridcolor": "white",
            "linecolor": "white",
            "ticks": ""
           },
           "bgcolor": "#E5ECF6",
           "caxis": {
            "gridcolor": "white",
            "linecolor": "white",
            "ticks": ""
           }
          },
          "title": {
           "x": 0.05
          },
          "xaxis": {
           "automargin": true,
           "gridcolor": "white",
           "linecolor": "white",
           "ticks": "",
           "title": {
            "standoff": 15
           },
           "zerolinecolor": "white",
           "zerolinewidth": 2
          },
          "yaxis": {
           "automargin": true,
           "gridcolor": "white",
           "linecolor": "white",
           "ticks": "",
           "title": {
            "standoff": 15
           },
           "zerolinecolor": "white",
           "zerolinewidth": 2
          }
         }
        },
        "title": {
         "text": "3D Chroma Vector Store Visualization"
        },
        "width": 900
       }
      },
      "image/png": "[encoded data removed]",
      "text/html": [
       "<div>                            <div id=\"b3f8ffea-a3bb-46c4-b672-7b081f9f152c\" class=\"plotly-graph-div\" style=\"height:700px; width:900px;\"></div>            <script type=\"text/javascript\">                require([\"plotly\"], function(Plotly) {                    window.PLOTLYENV=window.PLOTLYENV || {};                                    if (document.getElementById(\"b3f8ffea-a3bb-46c4-b672-7b081f9f152c\")) {                    Plotly.newPlot(                        \"b3f8ffea-a3bb-46c4-b672-7b081f9f152c\",                        [{\"hoverinfo\":\"text\",\"marker\":{\"color\":[\"blue\",\"blue\",\"blue\",\"blue\",\"blue\",\"blue\",\"blue\",\"blue\",\"blue\",\"blue\",\"blue\",\"blue\",\"blue\",\"blue\",\"blue\",\"blue\",\"blue\",\"blue\",\"blue\",\"blue\",\"blue\",\"blue\",\"blue\",\"blue\",\"blue\",\"blue\",\"blue\",\"blue\",\"blue\",\"blue\",\"blue\",\"blue\",\"blue\",\"blue\",\"blue\",\"blue\",\"blue\",\"blue\",\"blue\",\"blue\",\"blue\",\"blue\",\"blue\",\"blue\",\"blue\",\"blue\",\"blue\",\"blue\",\"blue\",\"blue\",\"blue\",\"blue\",\"blue\",\"blue\",\"blue\",\"blue\",\"blue\",\"blue\",\"blue\",\"blue\",\"blue\",\"blue\",\"blue\",\"blue\",\"blue\",\"blue\",\"blue\",\"blue\",\"blue\",\"blue\",\"blue\",\"blue\",\"blue\",\"blue\",\"blue\",\"blue\",\"blue\",\"blue\",\"blue\",\"blue\",\"blue\",\"blue\",\"blue\",\"blue\",\"blue\"],\"opacity\":0.8,\"size\":5},\"mode\":\"markers\",\"text\":[\"Type: DataBase\\u003cbr\\u003eText: Import_Code: A12\\nTax ID: 101095255\\nCty nhập khẩu: CôNG TY TNHH HANWA SMC STEEL SERVICE Hà NộI\\nĐịa ch...\",\"Type: DataBase\\u003cbr\\u003eText: Import_Code: A12\\nTax ID: 101095255\\nCty nhập khẩu: CôNG TY TNHH HANWA SMC STEEL SERVICE Hà NộI\\nĐịa ch...\",\"Type: DataBase\\u003cbr\\u003eText: Import_Code: A12\\nTax ID: 101095255\\nCty nhập khẩu: CôNG TY TNHH HANWA SMC STEEL SERVICE Hà NộI\\nĐịa ch...\",\"Type: DataBase\\u003cbr\\u003eText: Import_Code: A12\\nTax ID: 101095255\\nCty nhập khẩu: CôNG TY TNHH HANWA SMC STEEL SERVICE Hà NộI\\nĐịa ch...\",\"Type: DataBase\\u003cbr\\u003eText: Import_Code: A12\\nTax ID: 101095255\\nCty nhập khẩu: CôNG TY TNHH HANWA SMC STEEL SERVICE Hà NộI\\nĐịa ch...\",\"Type: DataBase\\u003cbr\\u003eText: Import_Code: A12\\nTax ID: 101095255\\nCty nhập khẩu: CôNG TY TNHH HANWA SMC STEEL SERVICE Hà NộI\\nĐịa ch...\",\"Type: DataBase\\u003cbr\\u003eText: Import_Code: A12\\nTax ID: 101095255\\nCty nhập khẩu: CôNG TY TNHH HANWA SMC STEEL SERVICE Hà NộI\\nĐịa ch...\",\"Type: DataBase\\u003cbr\\u003eText: Import_Code: A12\\nTax ID: 101095255\\nCty nhập khẩu: CôNG TY TNHH HANWA SMC STEEL SERVICE Hà NộI\\nĐịa ch...\",\"Type: DataBase\\u003cbr\\u003eText: Import_Code: A12\\nTax ID: 101095255\\nCty nhập khẩu: CôNG TY TNHH HANWA SMC STEEL SERVICE Hà NộI\\nĐịa ch...\",\"Type: DataBase\\u003cbr\\u003eText: Import_Code: A12\\nTax ID: 101095255\\nCty nhập khẩu: CôNG TY TNHH HANWA SMC STEEL SERVICE Hà NộI\\nĐịa ch...\",\"Type: DataBase\\u003cbr\\u003eText: Import_Code: A12\\nTax ID: 101095255\\nCty nhập khẩu: CôNG TY TNHH HANWA SMC STEEL SERVICE Hà NộI\\nĐịa ch...\",\"Type: DataBase\\u003cbr\\u003eText: Import_Code: A12\\nTax ID: 101095255\\nCty nhập khẩu: CôNG TY TNHH HANWA SMC STEEL SERVICE Hà NộI\\nĐịa ch...\",\"Type: DataBase\\u003cbr\\u003eText: Import_Code: A12\\nTax ID: 101095255\\nCty nhập khẩu: CôNG TY TNHH HANWA SMC STEEL SERVICE Hà NộI\\nĐịa ch...\",\"Type: DataBase\\u003cbr\\u003eText: Import_Code: A12\\nTax ID: 101095255\\nCty nhập khẩu: CôNG TY TNHH HANWA SMC STEEL SERVICE Hà NộI\\nĐịa ch...\",\"Type: DataBase\\u003cbr\\u003eText: Import_Code: A12\\nTax ID: 101095255\\nCty nhập khẩu: CôNG TY TNHH HANWA SMC STEEL SERVICE Hà NộI\\nĐịa ch...\",\"Type: DataBase\\u003cbr\\u003eText: Import_Code: A12\\nTax ID: 101095255\\nCty nhập khẩu: CôNG TY TNHH HANWA SMC STEEL SERVICE Hà NộI\\nĐịa ch...\",\"Type: DataBase\\u003cbr\\u003eText: Import_Code: A12\\nTax ID: 101095255\\nCty nhập khẩu: CôNG TY TNHH HANWA SMC STEEL SERVICE Hà NộI\\nĐịa ch...\",\"Type: DataBase\\u003cbr\\u003eText: Import_Code: A12\\nTax ID: 101095255\\nCty nhập khẩu: CôNG TY TNHH HANWA SMC STEEL SERVICE Hà NộI\\nĐịa ch...\",\"Type: DataBase\\u003cbr\\u003eText: Import_Code: A12\\nTax ID: 101095255\\nCty nhập khẩu: CôNG TY TNHH HANWA SMC STEEL SERVICE Hà NộI\\nĐịa ch...\",\"Type: DataBase\\u003cbr\\u003eText: Import_Code: A12\\nTax ID: 101095255\\nCty nhập khẩu: CôNG TY TNHH HANWA SMC STEEL SERVICE Hà NộI\\nĐịa ch...\",\"Type: DataBase\\u003cbr\\u003eText: Import_Code: E31\\nTax ID: 3502447502\\nCty nhập khẩu: CôNG TY TNHH VSSC STEEL CENTER\\nĐịa chỉ cty nhập :...\",\"Type: DataBase\\u003cbr\\u003eText: Import_Code: E31\\nTax ID: 3502447502\\nCty nhập khẩu: CôNG TY TNHH VSSC STEEL CENTER\\nĐịa chỉ cty nhập :...\",\"Type: DataBase\\u003cbr\\u003eText: Import_Code: E31\\nTax ID: 3502447502\\nCty nhập khẩu: CôNG TY TNHH VSSC STEEL CENTER\\nĐịa chỉ cty nhập :...\",\"Type: DataBase\\u003cbr\\u003eText: Import_Code: E31\\nTax ID: 3502447502\\nCty nhập khẩu: CôNG TY TNHH VSSC STEEL CENTER\\nĐịa chỉ cty nhập :...\",\"Type: DataBase\\u003cbr\\u003eText: Import_Code: E31\\nTax ID: 3502447502\\nCty nhập khẩu: CôNG TY TNHH VSSC STEEL CENTER\\nĐịa chỉ cty nhập :...\",\"Type: DataBase\\u003cbr\\u003eText: Import_Code: E31\\nTax ID: 3502447502\\nCty nhập khẩu: CôNG TY TNHH VSSC STEEL CENTER\\nĐịa chỉ cty nhập :...\",\"Type: DataBase\\u003cbr\\u003eText: Import_Code: E31\\nTax ID: 3502447502\\nCty nhập khẩu: CôNG TY TNHH VSSC STEEL CENTER\\nĐịa chỉ cty nhập :...\",\"Type: DataBase\\u003cbr\\u003eText: Import_Code: E13\\nTax ID: 3603212923\\nCty nhập khẩu: CôNG TY TNHH SMC MANUFACTURING (VIệT NAM)\\nĐịa chỉ...\",\"Type: DataBase\\u003cbr\\u003eText: Import_Code: A41\\nTax ID: 105324298\\nCty nhập khẩu: Công ty TNHH Marubeni- Itochu Steel Việt Nam\\nĐịa c...\",\"Type: DataBase\\u003cbr\\u003eText: Import_Code: A11\\nTax ID: 312956256\\nCty nhập khẩu: Công Ty TNHH Thép Không Gỉ Thiên Long\\nĐịa chỉ cty ...\",\"Type: DataBase\\u003cbr\\u003eText: Import_Code: A11\\nTax ID: 312956256\\nCty nhập khẩu: Công Ty TNHH Thép Không Gỉ Thiên Long\\nĐịa chỉ cty ...\",\"Type: DataBase\\u003cbr\\u003eText: Import_Code: A12\\nTax ID: 200504396\\nCty nhập khẩu: Công Ty TNHH Phát Triển, Thương Mại Và Sản Xuất Đạ...\",\"Type: DataBase\\u003cbr\\u003eText: Import_Code: A11\\nTax ID: 109115665\\nCty nhập khẩu: CôNG TY TNHH KINH DOANH THéP HOàNG MINH\\nĐịa chỉ ct...\",\"Type: DataBase\\u003cbr\\u003eText: Import_Code: A11\\nTax ID: 302176553\\nCty nhập khẩu: Công Ty TNHH Thương Mại & Dịch Vụ Quang Mười\\nĐịa c...\",\"Type: DataBase\\u003cbr\\u003eText: Import_Code: A11\\nTax ID: 302176553\\nCty nhập khẩu: Công Ty TNHH Thương Mại & Dịch Vụ Quang Mười\\nĐịa c...\",\"Type: DataBase\\u003cbr\\u003eText: Import_Code: A11\\nTax ID: 302176553\\nCty nhập khẩu: Công Ty TNHH Thương Mại & Dịch Vụ Quang Mười\\nĐịa c...\",\"Type: DataBase\\u003cbr\\u003eText: Import_Code: A11\\nTax ID: 302176553\\nCty nhập khẩu: Công Ty TNHH Thương Mại & Dịch Vụ Quang Mười\\nĐịa c...\",\"Type: DataBase\\u003cbr\\u003eText: Import_Code: A11\\nTax ID: 302176553\\nCty nhập khẩu: Công Ty TNHH Thương Mại & Dịch Vụ Quang Mười\\nĐịa c...\",\"Type: DataBase\\u003cbr\\u003eText: Import_Code: A12\\nTax ID: 900869113\\nCty nhập khẩu: CôNG TY Cổ PHầN THéP SAO VIệT HưNG YêN\\nĐịa chỉ cty...\",\"Type: DataBase\\u003cbr\\u003eText: Import_Code: A12\\nTax ID: 900869113\\nCty nhập khẩu: CôNG TY Cổ PHầN THéP SAO VIệT HưNG YêN\\nĐịa chỉ cty...\",\"Type: DataBase\\u003cbr\\u003eText: Import_Code: A12\\nTax ID: 2400576842\\nCty nhập khẩu: CôNG TY TNHH MYUNGBO VINA\\nĐịa chỉ cty nhập : Lô B...\",\"Type: DataBase\\u003cbr\\u003eText: Import_Code: A12\\nTax ID: 2300796280\\nCty nhập khẩu: CôNG TY Cổ PHầN PHáT TRIểN MôI TRườNG BìNH NGUYêN...\",\"Type: DataBase\\u003cbr\\u003eText: Import_Code: A12\\nTax ID: 900847536\\nCty nhập khẩu: Công Ty Cổ Phần Đầu Tư Phát Triển Công Nghiệp & Mô...\",\"Type: DataBase\\u003cbr\\u003eText: Import_Code: A12\\nTax ID: 900847536\\nCty nhập khẩu: Công Ty Cổ Phần Đầu Tư Phát Triển Công Nghiệp & Mô...\",\"Type: DataBase\\u003cbr\\u003eText: Import_Code: A11\\nTax ID: 308418304\\nCty nhập khẩu: CôNG TY TNHH THéP KIM QUốC\\nĐịa chỉ cty nhập : 222\\u002f...\",\"Type: DataBase\\u003cbr\\u003eText: Import_Code: A11\\nTax ID: 308418304\\nCty nhập khẩu: CôNG TY TNHH THéP KIM QUốC\\nĐịa chỉ cty nhập : 222\\u002f...\",\"Type: DataBase\\u003cbr\\u003eText: Import_Code: A11\\nTax ID: 308418304\\nCty nhập khẩu: CôNG TY TNHH THéP KIM QUốC\\nĐịa chỉ cty nhập : 222\\u002f...\",\"Type: DataBase\\u003cbr\\u003eText: Import_Code: B11\\nTax ID: 1101982682\\nnha xuat khau: CôNG TY TNHH Cơ KHí XâY DựNG BảO DũNG\\ndia chi xk:...\",\"Type: DataBase\\u003cbr\\u003eText: Import_Code: B11\\nTax ID: 302602610\\nnha xuat khau: Công Ty TNHH Meinan (Việt Nam)\\ndia chi xk: Lô 67, ...\",\"Type: DataBase\\u003cbr\\u003eText: Import_Code: B11\\nTax ID: 302602610\\nnha xuat khau: Công Ty TNHH Meinan (Việt Nam)\\ndia chi xk: Lô 67, ...\",\"Type: DataBase\\u003cbr\\u003eText: Import_Code: B11\\nTax ID: 302602610\\nnha xuat khau: Công Ty TNHH Meinan (Việt Nam)\\ndia chi xk: Lô 67, ...\",\"Type: DataBase\\u003cbr\\u003eText: Import_Code: E52\\nTax ID: 3401196669\\nnha xuat khau: CôNG TY TNHH VINA SAPPHIRE\\ndia chi xk: Lô A3.1 Cụ...\",\"Type: DataBase\\u003cbr\\u003eText: Import_Code: E52\\nTax ID: 3401196669\\nnha xuat khau: CôNG TY TNHH VINA SAPPHIRE\\ndia chi xk: Lô A3.1 Cụ...\",\"Type: DataBase\\u003cbr\\u003eText: Import_Code: E52\\nTax ID: 3401196669\\nnha xuat khau: CôNG TY TNHH VINA SAPPHIRE\\ndia chi xk: Lô A3.1 Cụ...\",\"Type: DataBase\\u003cbr\\u003eText: Import_Code: E52\\nTax ID: 3401196669\\nnha xuat khau: CôNG TY TNHH VINA SAPPHIRE\\ndia chi xk: Lô A3.1 Cụ...\",\"Type: DataBase\\u003cbr\\u003eText: Import_Code: E52\\nTax ID: 3401196669\\nnha xuat khau: CôNG TY TNHH VINA SAPPHIRE\\ndia chi xk: Lô A3.1 Cụ...\",\"Type: DataBase\\u003cbr\\u003eText: Import_Code: E52\\nTax ID: 3401196669\\nnha xuat khau: CôNG TY TNHH VINA SAPPHIRE\\ndia chi xk: Lô A3.1 Cụ...\",\"Type: DataBase\\u003cbr\\u003eText: Import_Code: E52\\nTax ID: 3401196669\\nnha xuat khau: CôNG TY TNHH VINA SAPPHIRE\\ndia chi xk: Lô A3.1 Cụ...\",\"Type: DataBase\\u003cbr\\u003eText: Import_Code: E52\\nTax ID: 3401196669\\nnha xuat khau: CôNG TY TNHH VINA SAPPHIRE\\ndia chi xk: Lô A3.1 Cụ...\",\"Type: DataBase\\u003cbr\\u003eText: Import_Code: G61\\nTax ID: 100108663\\nnha xuat khau: Tổng Công Ty Thành An\\ndia chi xk: 141 Hồ Đắc Di, p...\",\"Type: DataBase\\u003cbr\\u003eText: Import_Code: G61\\nTax ID: 100108663\\nnha xuat khau: Tổng Công Ty Thành An\\ndia chi xk: 141 Hồ Đắc Di, p...\",\"Type: DataBase\\u003cbr\\u003eText: Import_Code: G61\\nTax ID: 100108663\\nnha xuat khau: Tổng Công Ty Thành An\\ndia chi xk: 141 Hồ Đắc Di, p...\",\"Type: DataBase\\u003cbr\\u003eText: Import_Code: G61\\nTax ID: 100108663\\nnha xuat khau: Tổng Công Ty Thành An\\ndia chi xk: 141 Hồ Đắc Di, p...\",\"Type: DataBase\\u003cbr\\u003eText: Import_Code: G61\\nTax ID: 100108663\\nnha xuat khau: Tổng Công Ty Thành An\\ndia chi xk: 141 Hồ Đắc Di, p...\",\"Type: DataBase\\u003cbr\\u003eText: Import_Code: G61\\nTax ID: 100108663\\nnha xuat khau: Tổng Công Ty Thành An\\ndia chi xk: 141 Hồ Đắc Di, p...\",\"Type: DataBase\\u003cbr\\u003eText: Import_Code: G61\\nTax ID: 100108663\\nnha xuat khau: Tổng Công Ty Thành An\\ndia chi xk: 141 Hồ Đắc Di, p...\",\"Type: DataBase\\u003cbr\\u003eText: Date: 01\\u002f08\\u002f2021\\nTax ID: 800740412\\nnha xuat khau: Công ty cổ phần luyện kim Tân Nguyên Hải Dương Việ...\",\"Type: DataBase\\u003cbr\\u003eText: Date: 01\\u002f08\\u002f2021\\nTax ID: 3700483421\\nnha xuat khau: CôNG TY TNHH TAKAKO VIệT NAM\\ndia chi xk: 27 Đại L...\",\"Type: DataBase\\u003cbr\\u003eText: Date: 01\\u002f08\\u002f2021\\nTax ID: 2300852009\\nnha xuat khau: Công ty TNHH SAMSUNG DISPLAY Việt Nam\\ndia chi xk:...\",\"Type: DataBase\\u003cbr\\u003eText: Date: 01\\u002f08\\u002f2021\\nTax ID: 2300852009\\nnha xuat khau: Công ty TNHH SAMSUNG DISPLAY Việt Nam\\ndia chi xk:...\",\"Type: DataBase\\u003cbr\\u003eText: Date: 01\\u002f08\\u002f2021\\nTax ID: 201905270\\nnha xuat khau: CôNG TY TNHH Cơ KHí EBA VIệT NAM\\ndia chi xk: Số 11...\",\"Type: DataBase\\u003cbr\\u003eText: Date: 01\\u002f08\\u002f2021\\nTax ID: 2500503799\\nnha xuat khau: Công ty TNHH UJU VINA\\ndia chi xk: SÓ 55, LÔ CN 12...\",\"Type: DataBase\\u003cbr\\u003eText: Date: 01\\u002f08\\u002f2021\\nTax ID: 2500503799\\nnha xuat khau: Công ty TNHH UJU VINA\\ndia chi xk: SÓ 55, LÔ CN 12...\",\"Type: DataBase\\u003cbr\\u003eText: Date: 01\\u002f08\\u002f2021\\nTax ID: 2500503799\\nnha xuat khau: Công ty TNHH UJU VINA\\ndia chi xk: SÓ 55, LÔ CN 12...\",\"Type: DataBase\\u003cbr\\u003eText: Date: 01\\u002f08\\u002f2021\\nTax ID: 801224675\\nnha xuat khau: CôNG TY TNHH LMS VINA\\ndia chi xk: Lô đất XN3-1E1,X...\",\"Type: DataBase\\u003cbr\\u003eText: Date: 01\\u002f08\\u002f2021\\nTax ID: 2500282740\\nnha xuat khau: CôNG TY TNHH JAHWA VINA\\ndia chi xk: Lô CN10, KCN ...\",\"Type: DataBase\\u003cbr\\u003eText: Date: 01\\u002f08\\u002f2021\\nTax ID: 3700483421\\nnha xuat khau: CôNG TY TNHH TAKAKO VIệT NAM\\ndia chi xk: 27 Đại L...\",\"Type: DataBase\\u003cbr\\u003eText: Date: 01\\u002f08\\u002f2021\\nTax ID: 3700483421\\nnha xuat khau: CôNG TY TNHH TAKAKO VIệT NAM\\ndia chi xk: 27 Đại L...\",\"Type: DataBase\\u003cbr\\u003eText: Date: 01\\u002f08\\u002f2021\\nTax ID: 2300852009\\nnha xuat khau: Công ty TNHH SAMSUNG DISPLAY Việt Nam\\ndia chi xk:...\",\"Type: DataBase\\u003cbr\\u003eText: Date: 01\\u002f08\\u002f2021\\nTax ID: 2300852009\\nnha xuat khau: Công ty TNHH SAMSUNG DISPLAY Việt Nam\\ndia chi xk:...\",\"Type: DataBase\\u003cbr\\u003eText: Date: 01\\u002f08\\u002f2021\\nTax ID: 2300852009\\nnha xuat khau: Công ty TNHH SAMSUNG DISPLAY Việt Nam\\ndia chi xk:...\",\"Type: DataBase\\u003cbr\\u003eText: Date: 01\\u002f08\\u002f2021\\nTax ID: 2300852009\\nnha xuat khau: Công ty TNHH SAMSUNG DISPLAY Việt Nam\\ndia chi xk:...\",\"Type: DataBase\\u003cbr\\u003eText: Date: 01\\u002f08\\u002f2021\\nTax ID: 2300852009\\nnha xuat khau: Công ty TNHH SAMSUNG DISPLAY Việt Nam\\ndia chi xk:...\",\"Type: DataBase\\u003cbr\\u003eText: Date: 01\\u002f08\\u002f2021\\nTax ID: 201934514\\nnha xuat khau: CôNG TY TNHH ĐIệN MáY ĐạI DươNG (HảI PHòNG)\\ndia ch...\",\"Type: DataBase\\u003cbr\\u003eText: Date: 01\\u002f08\\u002f2021\\nTax ID: 2300852009\\nnha xuat khau: Công ty TNHH SAMSUNG DISPLAY Việt Nam\\ndia chi xk:...\"],\"x\":[31.863077,17.162235,54.817387,-18.577906,46.771072,-14.454943,0.45719764,20.671675,-34.187786,36.020622,14.408168,56.397964,-13.264463,61.968807,75.065186,28.65274,-2.7675714,31.67158,-0.7729285,-26.85252,35.498745,-73.3294,28.147684,51.673363,67.053894,46.985996,16.75187,55.096428,11.575302,15.861786,45.674473,-15.718599,20.950445,73.7359,48.32252,58.963535,40.127495,-37.139217,54.58955,33.1499,-77.42164,-4.808206,-83.0552,-48.853287,5.412455,5.7225447,-0.5974721,16.055012,-3.732909,-44.927197,-61.513176,84.3943,90.96215,-67.31597,104.363495,123.15757,-93.84098,90.59774,118.621544,-46.194218,-19.564137,-3.1634004,-57.06292,-35.230713,-18.778164,-45.908787,-25.423553,-16.957216,-77.5803,3.5780978,-46.095963,-101.00472,-34.52924,-92.85434,-7.516474,-50.849483,-53.490204,36.74317,-14.229795,-26.684153,-61.649036,-40.799328,-49.372414,-21.10891,18.728083],\"y\":[34.959473,69.40934,24.530142,24.885967,-8.461893,46.837933,38.270462,9.820299,-34.935875,-21.327759,2.9111009,-20.90256,-20.02784,-47.55962,-37.481316,-65.57482,-50.376457,-47.383297,-16.412615,5.002625,56.602207,11.047783,19.237347,62.672497,34.18666,24.326532,49.043648,-38.949726,-23.02049,-69.72221,-65.53706,-103.395706,-37.607513,48.81815,69.63832,79.65774,49.74397,-70.39001,10.4620075,28.702013,57.3879,-76.55927,-44.30261,63.728302,-108.11255,79.234825,62.423992,3.3813558,-88.98946,-92.50779,-75.1946,61.95457,-3.7564354,19.305544,12.305884,13.257674,-32.61322,32.240864,43.47583,23.344076,-3.6507683,-29.631308,-12.226986,-32.875652,23.151274,1.9141984,102.87241,-46.038322,6.02298,-22.784012,-66.51733,30.369944,44.83477,43.839844,-7.527116,-29.041552,-53.762142,-52.97533,19.592863,-11.578922,-14.470151,4.7554317,22.631273,-66.559,10.360501],\"z\":[-39.601215,-35.214867,-12.566272,-82.02585,3.5733144,-49.163692,-16.776073,-14.668104,-47.620102,-37.20794,-60.074055,-73.80805,-76.69351,-36.667744,-3.402958,-38.18626,-29.000177,-4.1342564,-33.220448,-47.258766,-117.52584,-52.151722,-112.11602,-81.66188,-108.905464,-80.28778,-87.518974,100.78221,-116.59812,-87.60991,-82.206245,61.51155,-72.27259,36.117252,53.60855,20.32111,22.651665,-81.64915,54.647694,62.397404,-18.300955,36.289795,34.453827,29.449049,-50.13122,19.093008,44.939934,34.410744,-9.216794,-27.95152,-12.481163,-32.198235,-47.875984,-96.04629,-17.951809,-55.81489,-36.011536,-57.157444,-31.021511,-0.5753942,5.2138405,26.598488,-0.4682478,15.6165905,26.469378,30.543385,-6.9447675,68.80982,82.11009,105.43182,50.48097,27.315573,71.01264,49.73729,69.60176,59.73572,85.84267,59.53356,103.69665,120.39536,110.30349,85.01063,116.458885,98.1269,109.82322],\"type\":\"scatter3d\"}],                        {\"template\":{\"data\":{\"histogram2dcontour\":[{\"type\":\"histogram2dcontour\",\"colorbar\":{\"outlinewidth\":0,\"ticks\":\"\"},\"colorscale\":[[0.0,\"#0d0887\"],[0.1111111111111111,\"#46039f\"],[0.2222222222222222,\"#7201a8\"],[0.3333333333333333,\"#9c179e\"],[0.4444444444444444,\"#bd3786\"],[0.5555555555555556,\"#d8576b\"],[0.6666666666666666,\"#ed7953\"],[0.7777777777777778,\"#fb9f3a\"],[0.8888888888888888,\"#fdca26\"],[1.0,\"#f0f921\"]]}],\"choropleth\":[{\"type\":\"choropleth\",\"colorbar\":{\"outlinewidth\":0,\"ticks\":\"\"}}],\"histogram2d\":[{\"type\":\"histogram2d\",\"colorbar\":{\"outlinewidth\":0,\"ticks\":\"\"},\"colorscale\":[[0.0,\"#0d0887\"],[0.1111111111111111,\"#46039f\"],[0.2222222222222222,\"#7201a8\"],[0.3333333333333333,\"#9c179e\"],[0.4444444444444444,\"#bd3786\"],[0.5555555555555556,\"#d8576b\"],[0.6666666666666666,\"#ed7953\"],[0.7777777777777778,\"#fb9f3a\"],[0.8888888888888888,\"#fdca26\"],[1.0,\"#f0f921\"]]}],\"heatmap\":[{\"type\":\"heatmap\",\"colorbar\":{\"outlinewidth\":0,\"ticks\":\"\"},\"colorscale\":[[0.0,\"#0d0887\"],[0.1111111111111111,\"#46039f\"],[0.2222222222222222,\"#7201a8\"],[0.3333333333333333,\"#9c179e\"],[0.4444444444444444,\"#bd3786\"],[0.5555555555555556,\"#d8576b\"],[0.6666666666666666,\"#ed7953\"],[0.7777777777777778,\"#fb9f3a\"],[0.8888888888888888,\"#fdca26\"],[1.0,\"#f0f921\"]]}],\"heatmapgl\":[{\"type\":\"heatmapgl\",\"colorbar\":{\"outlinewidth\":0,\"ticks\":\"\"},\"colorscale\":[[0.0,\"#0d0887\"],[0.1111111111111111,\"#46039f\"],[0.2222222222222222,\"#7201a8\"],[0.3333333333333333,\"#9c179e\"],[0.4444444444444444,\"#bd3786\"],[0.5555555555555556,\"#d8576b\"],[0.6666666666666666,\"#ed7953\"],[0.7777777777777778,\"#fb9f3a\"],[0.8888888888888888,\"#fdca26\"],[1.0,\"#f0f921\"]]}],\"contourcarpet\":[{\"type\":\"contourcarpet\",\"colorbar\":{\"outlinewidth\":0,\"ticks\":\"\"}}],\"contour\":[{\"type\":\"contour\",\"colorbar\":{\"outlinewidth\":0,\"ticks\":\"\"},\"colorscale\":[[0.0,\"#0d0887\"],[0.1111111111111111,\"#46039f\"],[0.2222222222222222,\"#7201a8\"],[0.3333333333333333,\"#9c179e\"],[0.4444444444444444,\"#bd3786\"],[0.5555555555555556,\"#d8576b\"],[0.6666666666666666,\"#ed7953\"],[0.7777777777777778,\"#fb9f3a\"],[0.8888888888888888,\"#fdca26\"],[1.0,\"#f0f921\"]]}],\"surface\":[{\"type\":\"surface\",\"colorbar\":{\"outlinewidth\":0,\"ticks\":\"\"},\"colorscale\":[[0.0,\"#0d0887\"],[0.1111111111111111,\"#46039f\"],[0.2222222222222222,\"#7201a8\"],[0.3333333333333333,\"#9c179e\"],[0.4444444444444444,\"#bd3786\"],[0.5555555555555556,\"#d8576b\"],[0.6666666666666666,\"#ed7953\"],[0.7777777777777778,\"#fb9f3a\"],[0.8888888888888888,\"#fdca26\"],[1.0,\"#f0f921\"]]}],\"mesh3d\":[{\"type\":\"mesh3d\",\"colorbar\":{\"outlinewidth\":0,\"ticks\":\"\"}}],\"scatter\":[{\"fillpattern\":{\"fillmode\":\"overlay\",\"size\":10,\"solidity\":0.2},\"type\":\"scatter\"}],\"parcoords\":[{\"type\":\"parcoords\",\"line\":{\"colorbar\":{\"outlinewidth\":0,\"ticks\":\"\"}}}],\"scatterpolargl\":[{\"type\":\"scatterpolargl\",\"marker\":{\"colorbar\":{\"outlinewidth\":0,\"ticks\":\"\"}}}],\"bar\":[{\"error_x\":{\"color\":\"#2a3f5f\"},\"error_y\":{\"color\":\"#2a3f5f\"},\"marker\":{\"line\":{\"color\":\"#E5ECF6\",\"width\":0.5},\"pattern\":{\"fillmode\":\"overlay\",\"size\":10,\"solidity\":0.2}},\"type\":\"bar\"}],\"scattergeo\":[{\"type\":\"scattergeo\",\"marker\":{\"colorbar\":{\"outlinewidth\":0,\"ticks\":\"\"}}}],\"scatterpolar\":[{\"type\":\"scatterpolar\",\"marker\":{\"colorbar\":{\"outlinewidth\":0,\"ticks\":\"\"}}}],\"histogram\":[{\"marker\":{\"pattern\":{\"fillmode\":\"overlay\",\"size\":10,\"solidity\":0.2}},\"type\":\"histogram\"}],\"scattergl\":[{\"type\":\"scattergl\",\"marker\":{\"colorbar\":{\"outlinewidth\":0,\"ticks\":\"\"}}}],\"scatter3d\":[{\"type\":\"scatter3d\",\"line\":{\"colorbar\":{\"outlinewidth\":0,\"ticks\":\"\"}},\"marker\":{\"colorbar\":{\"outlinewidth\":0,\"ticks\":\"\"}}}],\"scattermapbox\":[{\"type\":\"scattermapbox\",\"marker\":{\"colorbar\":{\"outlinewidth\":0,\"ticks\":\"\"}}}],\"scatterternary\":[{\"type\":\"scatterternary\",\"marker\":{\"colorbar\":{\"outlinewidth\":0,\"ticks\":\"\"}}}],\"scattercarpet\":[{\"type\":\"scattercarpet\",\"marker\":{\"colorbar\":{\"outlinewidth\":0,\"ticks\":\"\"}}}],\"carpet\":[{\"aaxis\":{\"endlinecolor\":\"#2a3f5f\",\"gridcolor\":\"white\",\"linecolor\":\"white\",\"minorgridcolor\":\"white\",\"startlinecolor\":\"#2a3f5f\"},\"baxis\":{\"endlinecolor\":\"#2a3f5f\",\"gridcolor\":\"white\",\"linecolor\":\"white\",\"minorgridcolor\":\"white\",\"startlinecolor\":\"#2a3f5f\"},\"type\":\"carpet\"}],\"table\":[{\"cells\":{\"fill\":{\"color\":\"#EBF0F8\"},\"line\":{\"color\":\"white\"}},\"header\":{\"fill\":{\"color\":\"#C8D4E3\"},\"line\":{\"color\":\"white\"}},\"type\":\"table\"}],\"barpolar\":[{\"marker\":{\"line\":{\"color\":\"#E5ECF6\",\"width\":0.5},\"pattern\":{\"fillmode\":\"overlay\",\"size\":10,\"solidity\":0.2}},\"type\":\"barpolar\"}],\"pie\":[{\"automargin\":true,\"type\":\"pie\"}]},\"layout\":{\"autotypenumbers\":\"strict\",\"colorway\":[\"#636efa\",\"#EF553B\",\"#00cc96\",\"#ab63fa\",\"#FFA15A\",\"#19d3f3\",\"#FF6692\",\"#B6E880\",\"#FF97FF\",\"#FECB52\"],\"font\":{\"color\":\"#2a3f5f\"},\"hovermode\":\"closest\",\"hoverlabel\":{\"align\":\"left\"},\"paper_bgcolor\":\"white\",\"plot_bgcolor\":\"#E5ECF6\",\"polar\":{\"bgcolor\":\"#E5ECF6\",\"angularaxis\":{\"gridcolor\":\"white\",\"linecolor\":\"white\",\"ticks\":\"\"},\"radialaxis\":{\"gridcolor\":\"white\",\"linecolor\":\"white\",\"ticks\":\"\"}},\"ternary\":{\"bgcolor\":\"#E5ECF6\",\"aaxis\":{\"gridcolor\":\"white\",\"linecolor\":\"white\",\"ticks\":\"\"},\"baxis\":{\"gridcolor\":\"white\",\"linecolor\":\"white\",\"ticks\":\"\"},\"caxis\":{\"gridcolor\":\"white\",\"linecolor\":\"white\",\"ticks\":\"\"}},\"coloraxis\":{\"colorbar\":{\"outlinewidth\":0,\"ticks\":\"\"}},\"colorscale\":{\"sequential\":[[0.0,\"#0d0887\"],[0.1111111111111111,\"#46039f\"],[0.2222222222222222,\"#7201a8\"],[0.3333333333333333,\"#9c179e\"],[0.4444444444444444,\"#bd3786\"],[0.5555555555555556,\"#d8576b\"],[0.6666666666666666,\"#ed7953\"],[0.7777777777777778,\"#fb9f3a\"],[0.8888888888888888,\"#fdca26\"],[1.0,\"#f0f921\"]],\"sequentialminus\":[[0.0,\"#0d0887\"],[0.1111111111111111,\"#46039f\"],[0.2222222222222222,\"#7201a8\"],[0.3333333333333333,\"#9c179e\"],[0.4444444444444444,\"#bd3786\"],[0.5555555555555556,\"#d8576b\"],[0.6666666666666666,\"#ed7953\"],[0.7777777777777778,\"#fb9f3a\"],[0.8888888888888888,\"#fdca26\"],[1.0,\"#f0f921\"]],\"diverging\":[[0,\"#8e0152\"],[0.1,\"#c51b7d\"],[0.2,\"#de77ae\"],[0.3,\"#f1b6da\"],[0.4,\"#fde0ef\"],[0.5,\"#f7f7f7\"],[0.6,\"#e6f5d0\"],[0.7,\"#b8e186\"],[0.8,\"#7fbc41\"],[0.9,\"#4d9221\"],[1,\"#276419\"]]},\"xaxis\":{\"gridcolor\":\"white\",\"linecolor\":\"white\",\"ticks\":\"\",\"title\":{\"standoff\":15},\"zerolinecolor\":\"white\",\"automargin\":true,\"zerolinewidth\":2},\"yaxis\":{\"gridcolor\":\"white\",\"linecolor\":\"white\",\"ticks\":\"\",\"title\":{\"standoff\":15},\"zerolinecolor\":\"white\",\"automargin\":true,\"zerolinewidth\":2},\"scene\":{\"xaxis\":{\"backgroundcolor\":\"#E5ECF6\",\"gridcolor\":\"white\",\"linecolor\":\"white\",\"showbackground\":true,\"ticks\":\"\",\"zerolinecolor\":\"white\",\"gridwidth\":2},\"yaxis\":{\"backgroundcolor\":\"#E5ECF6\",\"gridcolor\":\"white\",\"linecolor\":\"white\",\"showbackground\":true,\"ticks\":\"\",\"zerolinecolor\":\"white\",\"gridwidth\":2},\"zaxis\":{\"backgroundcolor\":\"#E5ECF6\",\"gridcolor\":\"white\",\"linecolor\":\"white\",\"showbackground\":true,\"ticks\":\"\",\"zerolinecolor\":\"white\",\"gridwidth\":2}},\"shapedefaults\":{\"line\":{\"color\":\"#2a3f5f\"}},\"annotationdefaults\":{\"arrowcolor\":\"#2a3f5f\",\"arrowhead\":0,\"arrowwidth\":1},\"geo\":{\"bgcolor\":\"white\",\"landcolor\":\"#E5ECF6\",\"subunitcolor\":\"white\",\"showland\":true,\"showlakes\":true,\"lakecolor\":\"white\"},\"title\":{\"x\":0.05},\"mapbox\":{\"style\":\"light\"}}},\"margin\":{\"r\":20,\"b\":10,\"l\":10,\"t\":40},\"title\":{\"text\":\"3D Chroma Vector Store Visualization\"},\"scene\":{\"xaxis\":{\"title\":{\"text\":\"x\"}},\"yaxis\":{\"title\":{\"text\":\"y\"}},\"zaxis\":{\"title\":{\"text\":\"z\"}}},\"width\":900,\"height\":700},                        {\"responsive\": true}                    ).then(function(){\n",
       "                            \n",
       "var gd = document.getElementById('b3f8ffea-a3bb-46c4-b672-7b081f9f152c');\n",
       "var x = new MutationObserver(function (mutations, observer) {{\n",
       "        var display = window.getComputedStyle(gd).display;\n",
       "        if (!display || display === 'none') {{\n",
       "            console.log([gd, 'removed!']);\n",
       "            Plotly.purge(gd);\n",
       "            observer.disconnect();\n",
       "        }}\n",
       "}});\n",
       "\n",
       "// Listen for the removal of the full notebook cells\n",
       "var notebookContainer = gd.closest('#notebook-container');\n",
       "if (notebookContainer) {{\n",
       "    x.observe(notebookContainer, {childList: true});\n",
       "}}\n",
       "\n",
       "// Listen for the clearing of the current output cell\n",
       "var outputEl = gd.closest('.output');\n",
       "if (outputEl) {{\n",
       "    x.observe(outputEl, {childList: true});\n",
       "}}\n",
       "\n",
       "                        })                };                });            </script>        </div>"
      ]
     },
     "metadata": {},
     "output_type": "display_data"
    }
   ],
   "source": [
    "# Let's try 3D!\n",
    "tsne = TSNE(n_components=3, random_state=42)\n",
    "reduced_vectors = tsne.fit_transform(vectors)\n",
    "\n",
    "# Create the 3D scatter plot\n",
    "fig = go.Figure(data=[go.Scatter3d(\n",
    "    x=reduced_vectors[:, 0],\n",
    "    y=reduced_vectors[:, 1],\n",
    "    z=reduced_vectors[:, 2],\n",
    "    mode='markers',\n",
    "    marker=dict(size=5, color=colors, opacity=0.8),\n",
    "    text=[f\"Type: {t}<br>Text: {d[:100]}...\" for t, d in zip(doc_types, documents)],\n",
    "    hoverinfo='text'\n",
    ")])\n",
    "\n",
    "fig.update_layout(\n",
    "    title='3D Chroma Vector Store Visualization',\n",
    "    scene=dict(xaxis_title='x', yaxis_title='y', zaxis_title='z'),\n",
    "    width=900,\n",
    "    height=700,\n",
    "    margin=dict(r=20, b=10, l=10, t=40)\n",
    ")\n",
    "\n",
    "fig.show()"
   ]
  },
  {
   "cell_type": "code",
   "execution_count": 97,
   "id": "529dabee-8062-419e-bcb6-98f8abf92ccb",
   "metadata": {},
   "outputs": [],
   "source": [
    "# create a new Chat with Gemini\n",
    "#llm = ChatVertexAI(temperature=0.7, model_name=MODEL)\n",
    "# create a new Chat with OpenAI\n",
    "llm = ChatOpenAI(temperature=0.7, model_name=\"gpt-4o-mini\")\n",
    "\n",
    "# Rebuild the model (this is the crucial missing step)\n",
    "ChatVertexAI.model_rebuild()\n",
    "\n",
    "# set up the conversation memory for the chat\n",
    "memory = ConversationBufferMemory(memory_key='chat_history', return_messages=True)\n",
    "\n",
    "# the retriever is an abstraction over the VectorStore that will be used during RAG\n",
    "retriever = vectorstore.as_retriever(search_kwargs={\"k\": 25})\n",
    "\n",
    "# Putting it together: set up the conversation chain with Gemini, \n",
    "# the vector store, and memory\n",
    "conversation_chain = ConversationalRetrievalChain.from_llm(\n",
    "    llm=llm, \n",
    "    retriever=retriever, \n",
    "    memory=memory\n",
    ")"
   ]
  },
  {
   "cell_type": "code",
   "execution_count": 98,
   "id": "931a843e-e450-4234-94ab-f55acb861934",
   "metadata": {},
   "outputs": [
    {
     "name": "stdout",
     "output_type": "stream",
     "text": [
      "VSSC Steel Center is importing various types of steel products, specifically:\n",
      "\n",
      "1. **Non-alloy Cold Rolled Flat Steel** - This includes products that are painted after coating and galvanized, with specifications such as carbon content less than 0.6% and various thicknesses and widths.\n",
      "\n",
      "2. **Non-alloy Hot Rolled Flat Steel** - This includes products that are unprocessed beyond hot rolling, uncoated, and in new condition.\n",
      "\n",
      "The specific products include different grades and dimensions of cold rolled and hot rolled flat steel sheets.\n"
     ]
    }
   ],
   "source": [
    "query = \"what VSSC steel center importing?\"\n",
    "result = conversation_chain.invoke({\"question\":query})\n",
    "print(result[\"answer\"])"
   ]
  },
  {
   "cell_type": "code",
   "execution_count": 99,
   "id": "4b0097d1-0c23-4b72-a9e5-55ebcc78a71f",
   "metadata": {},
   "outputs": [],
   "source": [
    "# set up a new conversation memory for the chat\n",
    "memory = ConversationBufferMemory(memory_key='chat_history', return_messages=True)\n",
    "\n",
    "# putting it together: set up the conversation chain with the GPT 4o-mini LLM, the vector store and memory\n",
    "conversation_chain = ConversationalRetrievalChain.from_llm(llm=llm, retriever=retriever, memory=memory)"
   ]
  },
  {
   "cell_type": "code",
   "execution_count": 100,
   "id": "a5fcbf31-fda7-495d-b6eb-d2eb9938ce2a",
   "metadata": {},
   "outputs": [],
   "source": [
    "# Wrapping in a function - note that history isn't used, as the memory is in the conversation_chain\n",
    "\n",
    "def chat(message, history):\n",
    "    result = conversation_chain.invoke({\"question\": message})\n",
    "    return result[\"answer\"]"
   ]
  },
  {
   "cell_type": "code",
   "execution_count": 101,
   "id": "6461a4e0-2776-472f-93d2-46edfda8ee1d",
   "metadata": {},
   "outputs": [
    {
     "name": "stdout",
     "output_type": "stream",
     "text": [
      "* Running on local URL:  http://127.0.0.1:7860\n",
      "* Running on public URL: https://9e45003a8e98b4b327.gradio.live\n",
      "\n",
      "This share link expires in 72 hours. For free permanent hosting and GPU upgrades, run `gradio deploy` from the terminal in the working directory to deploy to Hugging Face Spaces (https://huggingface.co/spaces)\n"
     ]
    },
    {
     "data": {
      "text/html": [
       "<div><iframe src=\"https://9e45003a8e98b4b327.gradio.live\" width=\"100%\" height=\"500\" allow=\"autoplay; camera; microphone; clipboard-read; clipboard-write;\" frameborder=\"0\" allowfullscreen></iframe></div>"
      ],
      "text/plain": [
       "<IPython.core.display.HTML object>"
      ]
     },
     "metadata": {},
     "output_type": "display_data"
    }
   ],
   "source": [
    "# And in Gradio:\n",
    "\n",
    "view = gr.ChatInterface(chat, type=\"messages\").launch(inbrowser=False, share=True)"
   ]
  },
  {
   "cell_type": "code",
   "execution_count": 103,
   "id": "ca058bc8-2555-4030-a9b5-36e05f1f0957",
   "metadata": {},
   "outputs": [
    {
     "name": "stdout",
     "output_type": "stream",
     "text": [
      "\n",
      "\n",
      "\u001b[1m> Entering new ConversationalRetrievalChain chain...\u001b[0m\n",
      "\n",
      "\n",
      "\u001b[1m> Entering new StuffDocumentsChain chain...\u001b[0m\n",
      "\n",
      "\n",
      "\u001b[1m> Entering new LLMChain chain...\u001b[0m\n",
      "Prompt after formatting:\n",
      "\u001b[32;1m\u001b[1;3mSystem: Use the following pieces of context to answer the user's question. \n",
      "If you don't know the answer, just say that you don't know, don't try to make up an answer.\n",
      "----------------\n",
      "Import_Code: E31\n",
      "Tax ID: 3502447502\n",
      "Cty nhập khẩu: CôNG TY TNHH VSSC STEEL CENTER\n",
      "Địa chỉ cty nhập : Đường N7 Khu công nghiệp Phú Mỹ II, Phường Tân Phước, Thị xã Phú Mỹ, Tỉnh Bà Rịa - Vũng Tàu,Việt Nam\n",
      "Cty bán hàng: SAMSUNG C AND T CORPORATION\n",
      "Incoterm: CIF\n",
      "Payment_Currency: USD\n",
      "Exchange_Rate: 24060.0\n",
      "Date: 2024-01-04T00:00:00\n",
      "HSCODE: 72107012\n",
      "Product_Info: PCM#&Thép không hợp kim cán phẳng dạng cuộn; cán nguội; được sơn sau khi phủ, mạ kẽm; Cacbon < 0.6%; dày 0.4mm; rộng 735mm; DA01-01523A;TC: JIS G 3312;NSX: SUZHOU XING HEYUAN SPECIAL MATERIAL.Mới 100%\n",
      "Quantity: 36024\n",
      "Unit: KGM\n",
      "Unit_Price: 1.07\n",
      "Địa chỉ cty bán hàng: 67, SEJONG-DAERO, JUNG-GU SEOUL, 04514, KOREA\n",
      "\n",
      "Import_Code: E31\n",
      "Tax ID: 3502447502\n",
      "Cty nhập khẩu: CôNG TY TNHH VSSC STEEL CENTER\n",
      "Địa chỉ cty nhập : Đường N7 Khu công nghiệp Phú Mỹ II, Phường Tân Phước, Thị xã Phú Mỹ, Tỉnh Bà Rịa - Vũng Tàu,Việt Nam\n",
      "Cty bán hàng: SAMSUNG C AND T CORPORATION\n",
      "Incoterm: CIF\n",
      "Payment_Currency: USD\n",
      "Exchange_Rate: 24060.0\n",
      "Date: 2024-01-04T00:00:00\n",
      "HSCODE: 72107012\n",
      "Product_Info: PCM#&Thép không hợp kim cán phẳng dạng cuộn; cán nguội; được sơn sau khi phủ, mạ kẽm; Cacbon < 0.6%; dày 1.0mm; rộng 843mm; DC01-00610A;TC: JIS G 3312;NSX: SUZHOU XING HEYUAN SPECIAL MATERIAL.Mới 100%\n",
      "Quantity: 14070\n",
      "Unit: KGM\n",
      "Unit_Price: 1.16\n",
      "Địa chỉ cty bán hàng: 67, SEJONG-DAERO, JUNG-GU SEOUL, 04514, KOREA\n",
      "\n",
      "Import_Code: E31\n",
      "Tax ID: 3502447502\n",
      "Cty nhập khẩu: CôNG TY TNHH VSSC STEEL CENTER\n",
      "Địa chỉ cty nhập : Đường N7 Khu công nghiệp Phú Mỹ II, Phường Tân Phước, Thị xã Phú Mỹ, Tỉnh Bà Rịa - Vũng Tàu,Việt Nam\n",
      "Cty bán hàng: SAMSUNG C AND T CORPORATION\n",
      "Incoterm: CIF\n",
      "Payment_Currency: USD\n",
      "Exchange_Rate: 24060.0\n",
      "Date: 2024-01-04T00:00:00\n",
      "HSCODE: 72107012\n",
      "Product_Info: PCM#&Thép không hợp kim cán phẳng dạng cuộn; cán nguội; được sơn sau khi phủ, mạ kẽm; Cacbon < 0.6%; dày 0.4mm; rộng 699mm; DA01-01112F;TC: JIS G 3312;NSX: SUZHOU XING HEYUAN SPECIAL MATERIAL.Mới 100%\n",
      "Quantity: 48585\n",
      "Unit: KGM\n",
      "Unit_Price: 1.09\n",
      "Địa chỉ cty bán hàng: 67, SEJONG-DAERO, JUNG-GU SEOUL, 04514, KOREA\n",
      "\n",
      "Import_Code: E31\n",
      "Tax ID: 3502447502\n",
      "Cty nhập khẩu: CôNG TY TNHH VSSC STEEL CENTER\n",
      "Địa chỉ cty nhập : Đường N7 Khu công nghiệp Phú Mỹ II, Phường Tân Phước, Thị xã Phú Mỹ, Tỉnh Bà Rịa - Vũng Tàu,Việt Nam\n",
      "Cty bán hàng: SAMSUNG C AND T CORPORATION\n",
      "Incoterm: CIF\n",
      "Payment_Currency: USD\n",
      "Exchange_Rate: 24060.0\n",
      "Date: 2024-01-04T00:00:00\n",
      "HSCODE: 72107012\n",
      "Product_Info: PCM#&Thép không hợp kim cán phẳng dạng cuộn; cán nguội; được sơn sau khi phủ, mạ kẽm; Cacbon < 0.6%; dày 1.0mm; rộng 843mm; DC01-00610B;TC: JIS G 3312;NSX: SUZHOU XING HEYUAN SPECIAL MATERIAL.Mới 100%\n",
      "Quantity: 36386\n",
      "Unit: KGM\n",
      "Unit_Price: 1.08\n",
      "Địa chỉ cty bán hàng: 67, SEJONG-DAERO, JUNG-GU SEOUL, 04514, KOREA\n",
      "\n",
      "Import_Code: E31\n",
      "Tax ID: 3502447502\n",
      "Cty nhập khẩu: CôNG TY TNHH VSSC STEEL CENTER\n",
      "Địa chỉ cty nhập : Đường N7 Khu công nghiệp Phú Mỹ II, Phường Tân Phước, Thị xã Phú Mỹ, Tỉnh Bà Rịa - Vũng Tàu,Việt Nam\n",
      "Cty bán hàng: SAMSUNG C AND T CORPORATION\n",
      "Incoterm: CIF\n",
      "Payment_Currency: USD\n",
      "Exchange_Rate: 24060.0\n",
      "Date: 2024-01-04T00:00:00\n",
      "HSCODE: 72107012\n",
      "Product_Info: PCM#&Thép không hợp kim cán phẳng dạng cuộn; cán nguội; được sơn sau khi phủ, mạ kẽm; Cacbon < 0.6%; dày 0.7mm; rộng 966mm; DC01-00479C;TC: JIS G 3312;NSX: SUZHOU XING HEYUAN SPECIAL MATERIAL.Mới 100%\n",
      "Quantity: 45335\n",
      "Unit: KGM\n",
      "Unit_Price: 1.13\n",
      "Địa chỉ cty bán hàng: 67, SEJONG-DAERO, JUNG-GU SEOUL, 04514, KOREA\n",
      "\n",
      "Import_Code: A41\n",
      "Tax ID: 105324298\n",
      "Cty nhập khẩu: Công ty TNHH Marubeni- Itochu Steel Việt Nam\n",
      "Địa chỉ cty nhập : Tầng 24, Keangnam Landmark Tower, đường Phạm Hùng, P.Mễ Trì, Q.Nam Từ Liêm, TP.Hà Nội, Việt Nam\n",
      "Cty bán hàng: SHARPMAX  INTERNATIONAL (HONGKONG) CO.,LIMITED\n",
      "Incoterm: CFR\n",
      "Payment_Currency: USD\n",
      "Exchange_Rate: 24420.0\n",
      "Date: 2024-03-01T00:00:00\n",
      "HSCODE: 72083800\n",
      "Product_Info: Thép cuộn cán phẳng,chưa gia công quá mức cán nóng,chưa tráng phủ mạ,sơn,không hợp kim,hàng mới 100% tiêu chuẩn GB/T 3524-2015,Q195L,kích cỡ (3,0 x 630 x C )mm,\n",
      "Quantity: 1590.87\n",
      "Unit: TNE\n",
      "Unit_Price: 555.0\n",
      "Địa chỉ cty bán hàng: 12/F., SAN TOI BUILDING, 137-139 CONNAUGHT ROAD CENTRAL HONGKONG\n",
      "\n",
      "Import_Code: E31\n",
      "Tax ID: 3502447502\n",
      "Cty nhập khẩu: CôNG TY TNHH VSSC STEEL CENTER\n",
      "Địa chỉ cty nhập : Đường N7 Khu công nghiệp Phú Mỹ II, Phường Tân Phước, Thị xã Phú Mỹ, Tỉnh Bà Rịa - Vũng Tàu,Việt Nam\n",
      "Cty bán hàng: SAMSUNG C AND T CORPORATION\n",
      "Incoterm: CIF\n",
      "Payment_Currency: USD\n",
      "Exchange_Rate: 24060.0\n",
      "Date: 2024-01-04T00:00:00\n",
      "HSCODE: 72107012\n",
      "Product_Info: PCM#&Thép không hợp kim cán phẳng dạng cuộn; cán nguội; được sơn sau khi phủ, mạ kẽm; Cacbon < 0.6%; dày 0.8mm; rộng 962mm; DC01-00274B;TC: JIS G 3312;NSX: SUZHOU XING HEYUAN SPECIAL MATERIAL.Mới 100%\n",
      "Quantity: 13515\n",
      "Unit: KGM\n",
      "Unit_Price: 1.155\n",
      "Địa chỉ cty bán hàng: 67, SEJONG-DAERO, JUNG-GU SEOUL, 04514, KOREA\n",
      "\n",
      "Import_Code: E31\n",
      "Tax ID: 3502447502\n",
      "Cty nhập khẩu: CôNG TY TNHH VSSC STEEL CENTER\n",
      "Địa chỉ cty nhập : Đường N7 Khu công nghiệp Phú Mỹ II, Phường Tân Phước, Thị xã Phú Mỹ, Tỉnh Bà Rịa - Vũng Tàu,Việt Nam\n",
      "Cty bán hàng: SAMSUNG C AND T CORPORATION\n",
      "Incoterm: CIF\n",
      "Payment_Currency: USD\n",
      "Exchange_Rate: 24060.0\n",
      "Date: 2024-01-04T00:00:00\n",
      "HSCODE: 72107012\n",
      "Product_Info: PCM#&Thép không hợp kim cán phẳng dạng cuộn; cán nguội; được sơn sau khi phủ, mạ kẽm; Cacbon < 0.6%;dày 0.35mm;rộng 669.5mm;DA01-01112B;TC: JIS G 3312;NSX: SUZHOU XING HEYUAN SPECIAL MATERIAL.Mới 100%\n",
      "Quantity: 19379\n",
      "Unit: KGM\n",
      "Unit_Price: 1.18\n",
      "Địa chỉ cty bán hàng: 67, SEJONG-DAERO, JUNG-GU SEOUL, 04514, KOREA\n",
      "\n",
      "Import_Code: A12\n",
      "Tax ID: 101095255\n",
      "Cty nhập khẩu: CôNG TY TNHH HANWA SMC STEEL SERVICE Hà NộI\n",
      "Địa chỉ cty nhập : Lô số 47, Khu công nghiệp Quang Minh, thị trấn Quang Minh, huyện Mê Linh, TP Hà Nội, Việt Nam\n",
      "Cty bán hàng: HANWA CO., LTD\n",
      "Incoterm: CFR\n",
      "Payment_Currency: USD\n",
      "Exchange_Rate: 24060.0\n",
      "Date: 2024-01-03T00:00:00\n",
      "HSCODE: 72091610\n",
      "Product_Info: Thép không hợp kim, cán phẳng, chưa gia công quá mức cán nguội, dạng cuộn, chưa phủ, mạ hoặc tráng, đã ngâm dầu tẩy gỉ,TC JIS G3141, SPCC-SD, mới 100%. Kích thước: 2.6mm x 1128mm x Cuộn.\n",
      "Quantity: 39805\n",
      "Unit: KGM\n",
      "Unit_Price: 0.72652\n",
      "Địa chỉ cty bán hàng: 4-3-9 FUSHIMI-MACHI CHUO-KU OSAKA 541-8585 JAPAN\n",
      "\n",
      "Import_Code: A12\n",
      "Tax ID: 101095255\n",
      "Cty nhập khẩu: CôNG TY TNHH HANWA SMC STEEL SERVICE Hà NộI\n",
      "Địa chỉ cty nhập : Lô số 47, Khu công nghiệp Quang Minh, thị trấn Quang Minh, huyện Mê Linh, TP Hà Nội, Việt Nam\n",
      "Cty bán hàng: HANWA CO., LTD\n",
      "Incoterm: CFR\n",
      "Payment_Currency: USD\n",
      "Exchange_Rate: 24060.0\n",
      "Date: 2024-01-03T00:00:00\n",
      "HSCODE: 72253090\n",
      "Product_Info: Thép hợp kim, dạng cuộn, cán phẳng, chưa gia công quá mức cán nóng, đã ngâm dầu tẩy gỉ,chưa phủ mạ hoặc tráng,TC JFS A1001, mác thép JSH590R, mới 100%. Kích thước: 2.0mm x 1156mm x Cuộn. C<0.6%\n",
      "Quantity: 35330\n",
      "Unit: KGM\n",
      "Unit_Price: 0.83387\n",
      "Địa chỉ cty bán hàng: 4-3-9 FUSHIMI-MACHI CHUO-KU OSAKA 541-8585 JAPAN\n",
      "\n",
      "Import_Code: A12\n",
      "Tax ID: 101095255\n",
      "Cty nhập khẩu: CôNG TY TNHH HANWA SMC STEEL SERVICE Hà NộI\n",
      "Địa chỉ cty nhập : Lô số 47, Khu công nghiệp Quang Minh, thị trấn Quang Minh, huyện Mê Linh, TP Hà Nội, Việt Nam\n",
      "Cty bán hàng: HANWA CO., LTD\n",
      "Incoterm: CFR\n",
      "Payment_Currency: USD\n",
      "Exchange_Rate: 24060.0\n",
      "Date: 2024-01-03T00:00:00\n",
      "HSCODE: 72082600\n",
      "Product_Info: Thép không hợp kim, dạng cuộn, cán phẳng, chưa gia công quá mức cán nóng, đã ngâm dầu tẩy gỉ,chưa phủ mạ hoặc tráng,TC JIS G3113, mác thép SAPH440, mới 100%. Kích thước: 4.0mm x 1178mm x Cuộn. C<0.6%\n",
      "Quantity: 65375\n",
      "Unit: KGM\n",
      "Unit_Price: 0.74857\n",
      "Địa chỉ cty bán hàng: 4-3-9 FUSHIMI-MACHI CHUO-KU OSAKA 541-8585 JAPAN\n",
      "\n",
      "Import_Code: A12\n",
      "Tax ID: 101095255\n",
      "Cty nhập khẩu: CôNG TY TNHH HANWA SMC STEEL SERVICE Hà NộI\n",
      "Địa chỉ cty nhập : Lô số 47, Khu công nghiệp Quang Minh, thị trấn Quang Minh, huyện Mê Linh, TP Hà Nội, Việt Nam\n",
      "Cty bán hàng: HANWA CO., LTD\n",
      "Incoterm: CFR\n",
      "Payment_Currency: USD\n",
      "Exchange_Rate: 24060.0\n",
      "Date: 2024-01-03T00:00:00\n",
      "HSCODE: 72091610\n",
      "Product_Info: Thép không hợp kim, cán phẳng, chưa gia công quá mức cán nguội, dạng cuộn, chưa phủ, mạ hoặc tráng, đã ngâm dầu tẩy gỉ,TC JIS G3141, SPCC-SD, mới 100%. Kích thước: 2.3mm x 1232mm x Cuộn.\n",
      "Quantity: 20700\n",
      "Unit: KGM\n",
      "Unit_Price: 0.72449\n",
      "Địa chỉ cty bán hàng: 4-3-9 FUSHIMI-MACHI CHUO-KU OSAKA 541-8585 JAPAN\n",
      "\n",
      "Import_Code: A12\n",
      "Tax ID: 101095255\n",
      "Cty nhập khẩu: CôNG TY TNHH HANWA SMC STEEL SERVICE Hà NộI\n",
      "Địa chỉ cty nhập : Lô số 47, Khu công nghiệp Quang Minh, thị trấn Quang Minh, huyện Mê Linh, TP Hà Nội, Việt Nam\n",
      "Cty bán hàng: HANWA CO., LTD\n",
      "Incoterm: CFR\n",
      "Payment_Currency: USD\n",
      "Exchange_Rate: 24060.0\n",
      "Date: 2024-01-03T00:00:00\n",
      "HSCODE: 72082500\n",
      "Product_Info: Thép không hợp kim, dạng cuộn, cán phẳng, chưa gia công quá mức cán nóng, đã ngâm dầu tẩy gỉ,chưa phủ mạ hoặc tráng,TC JIS G3113, mác thép SAPH440, mới 100%. Kích thước: 5.0mm x 1265mm x Cuộn. C<0.6%\n",
      "Quantity: 20785\n",
      "Unit: KGM\n",
      "Unit_Price: 0.74456\n",
      "Địa chỉ cty bán hàng: 4-3-9 FUSHIMI-MACHI CHUO-KU OSAKA 541-8585 JAPAN\n",
      "\n",
      "Import_Code: A12\n",
      "Tax ID: 101095255\n",
      "Cty nhập khẩu: CôNG TY TNHH HANWA SMC STEEL SERVICE Hà NộI\n",
      "Địa chỉ cty nhập : Lô số 47, Khu công nghiệp Quang Minh, thị trấn Quang Minh, huyện Mê Linh, TP Hà Nội, Việt Nam\n",
      "Cty bán hàng: HANWA CO., LTD\n",
      "Incoterm: CFR\n",
      "Payment_Currency: USD\n",
      "Exchange_Rate: 24060.0\n",
      "Date: 2024-01-03T00:00:00\n",
      "HSCODE: 72091610\n",
      "Product_Info: Thép không hợp kim, cán phẳng, chưa gia công quá mức cán nguội, dạng cuộn, chưa phủ, mạ hoặc tráng, đã ngâm dầu tẩy gỉ,TC JIS G3141, SPCC-SD, mới 100%. Kích thước: 2.6mm x 1128mm x Cuộn.\n",
      "Quantity: 16375\n",
      "Unit: KGM\n",
      "Unit_Price: 0.72652\n",
      "Địa chỉ cty bán hàng: 4-3-9 FUSHIMI-MACHI CHUO-KU OSAKA 541-8585 JAPAN\n",
      "\n",
      "Import_Code: A12\n",
      "Tax ID: 101095255\n",
      "Cty nhập khẩu: CôNG TY TNHH HANWA SMC STEEL SERVICE Hà NộI\n",
      "Địa chỉ cty nhập : Lô số 47, Khu công nghiệp Quang Minh, thị trấn Quang Minh, huyện Mê Linh, TP Hà Nội, Việt Nam\n",
      "Cty bán hàng: HANWA CO., LTD\n",
      "Incoterm: CFR\n",
      "Payment_Currency: USD\n",
      "Exchange_Rate: 24060.0\n",
      "Date: 2024-01-03T00:00:00\n",
      "HSCODE: 72091610\n",
      "Product_Info: Thép không hợp kim, cán phẳng, chưa gia công quá mức cán nguội, dạng cuộn, chưa phủ, mạ hoặc tráng, đã ngâm dầu tẩy gỉ,TC JIS G3141, SPCC-SD, mới 100%. Kích thước: 2.6mm x 1238mm x Cuộn.\n",
      "Quantity: 20290\n",
      "Unit: KGM\n",
      "Unit_Price: 0.72652\n",
      "Địa chỉ cty bán hàng: 4-3-9 FUSHIMI-MACHI CHUO-KU OSAKA 541-8585 JAPAN\n",
      "\n",
      "Import_Code: A12\n",
      "Tax ID: 101095255\n",
      "Cty nhập khẩu: CôNG TY TNHH HANWA SMC STEEL SERVICE Hà NộI\n",
      "Địa chỉ cty nhập : Lô số 47, Khu công nghiệp Quang Minh, thị trấn Quang Minh, huyện Mê Linh, TP Hà Nội, Việt Nam\n",
      "Cty bán hàng: HANWA CO., LTD\n",
      "Incoterm: CFR\n",
      "Payment_Currency: USD\n",
      "Exchange_Rate: 24060.0\n",
      "Date: 2024-01-03T00:00:00\n",
      "HSCODE: 72091500\n",
      "Product_Info: Thép không hợp kim, cán phẳng, chưa gia công quá mức cán nguội, dạng cuộn, chưa phủ, mạ hoặc tráng, đã ngâm dầu tẩy gỉ,TC JIS G3141, SPCC-SD, mới 100%. Kích thước: 3.0mm x 1219mm x Cuộn.\n",
      "Quantity: 53210\n",
      "Unit: KGM\n",
      "Unit_Price: 0.73054\n",
      "Địa chỉ cty bán hàng: 4-3-9 FUSHIMI-MACHI CHUO-KU OSAKA 541-8585 JAPAN\n",
      "\n",
      "Import_Code: A12\n",
      "Tax ID: 101095255\n",
      "Cty nhập khẩu: CôNG TY TNHH HANWA SMC STEEL SERVICE Hà NộI\n",
      "Địa chỉ cty nhập : Lô số 47, Khu công nghiệp Quang Minh, thị trấn Quang Minh, huyện Mê Linh, TP Hà Nội, Việt Nam\n",
      "Cty bán hàng: HANWA CO., LTD\n",
      "Incoterm: CFR\n",
      "Payment_Currency: USD\n",
      "Exchange_Rate: 24060.0\n",
      "Date: 2024-01-03T00:00:00\n",
      "HSCODE: 72091610\n",
      "Product_Info: Thép không hợp kim, cán phẳng, chưa gia công quá mức cán nguội, dạng cuộn, chưa phủ, mạ hoặc tráng, đã ngâm dầu tẩy gỉ,TC JIS G3141, SPCC-SD, mới 100%. Kích thước: 2.6mm x 1238mm x Cuộn.\n",
      "Quantity: 19050\n",
      "Unit: KGM\n",
      "Unit_Price: 0.7265\n",
      "Địa chỉ cty bán hàng: 4-3-9 FUSHIMI-MACHI CHUO-KU OSAKA 541-8585 JAPAN\n",
      "\n",
      "Import_Code: A12\n",
      "Tax ID: 101095255\n",
      "Cty nhập khẩu: CôNG TY TNHH HANWA SMC STEEL SERVICE Hà NộI\n",
      "Địa chỉ cty nhập : Lô số 47, Khu công nghiệp Quang Minh, thị trấn Quang Minh, huyện Mê Linh, TP Hà Nội, Việt Nam\n",
      "Cty bán hàng: HANWA CO., LTD\n",
      "Incoterm: CFR\n",
      "Payment_Currency: USD\n",
      "Exchange_Rate: 24060.0\n",
      "Date: 2024-01-03T00:00:00\n",
      "HSCODE: 72091610\n",
      "Product_Info: Thép không hợp kim, cán phẳng, chưa gia công quá mức cán nguội, dạng cuộn, chưa phủ, mạ hoặc tráng, đã ngâm dầu tẩy gỉ,TC JIS G3141, SPCC-SD, mới 100%. Kích thước: 2.3mm x 1232mm x Cuộn.\n",
      "Quantity: 21145\n",
      "Unit: KGM\n",
      "Unit_Price: 0.72452\n",
      "Địa chỉ cty bán hàng: 4-3-9 FUSHIMI-MACHI CHUO-KU OSAKA 541-8585 JAPAN\n",
      "\n",
      "Import_Code: A12\n",
      "Tax ID: 101095255\n",
      "Cty nhập khẩu: CôNG TY TNHH HANWA SMC STEEL SERVICE Hà NộI\n",
      "Địa chỉ cty nhập : Lô số 47, Khu công nghiệp Quang Minh, thị trấn Quang Minh, huyện Mê Linh, TP Hà Nội, Việt Nam\n",
      "Cty bán hàng: HANWA CO.,LTD\n",
      "Incoterm: CFR\n",
      "Payment_Currency: USD\n",
      "Exchange_Rate: 24060.0\n",
      "Date: 2024-01-03T00:00:00\n",
      "HSCODE: 72103019\n",
      "Product_Info: Thép không hợp kim, dạng cuộn, cán phẳng, được mạ kẽm bằng phương pháp điện phân,  hàm lượng C<0.6%, TC JIS G3313, mác thép SECC, mới 100%. Kích thước: 1.6 mm x 1130 mm x Cuộn\n",
      "Quantity: 16320\n",
      "Unit: KGM\n",
      "Unit_Price: 1.1\n",
      "Địa chỉ cty bán hàng: 1-13-1 TSUKIJI, CHUO-KU TOKYO 104-8429 JAPAN\n",
      "\n",
      "Import_Code: A12\n",
      "Tax ID: 101095255\n",
      "Cty nhập khẩu: CôNG TY TNHH HANWA SMC STEEL SERVICE Hà NộI\n",
      "Địa chỉ cty nhập : Lô số 47, Khu công nghiệp Quang Minh, thị trấn Quang Minh, huyện Mê Linh, TP Hà Nội, Việt Nam\n",
      "Cty bán hàng: HANWA CO., LTD\n",
      "Incoterm: CFR\n",
      "Payment_Currency: USD\n",
      "Exchange_Rate: 24060.0\n",
      "Date: 2024-01-03T00:00:00\n",
      "HSCODE: 72091500\n",
      "Product_Info: Thép không hợp kim, cán phẳng, chưa gia công quá mức cán nguội, dạng cuộn, chưa phủ, mạ hoặc tráng, đã ngâm dầu tẩy gỉ,TC JIS G3141, SPCC-SD, mới 100%. Kích thước: 3.0mm x 1219mm x Cuộn.\n",
      "Quantity: 10185\n",
      "Unit: KGM\n",
      "Unit_Price: 0.73051\n",
      "Địa chỉ cty bán hàng: 4-3-9 FUSHIMI-MACHI CHUO-KU OSAKA 541-8585 JAPAN\n",
      "\n",
      "Import_Code: A12\n",
      "Tax ID: 101095255\n",
      "Cty nhập khẩu: CôNG TY TNHH HANWA SMC STEEL SERVICE Hà NộI\n",
      "Địa chỉ cty nhập : Lô số 47, Khu công nghiệp Quang Minh, thị trấn Quang Minh, huyện Mê Linh, TP Hà Nội, Việt Nam\n",
      "Cty bán hàng: GUANGZHOU HANWA TRADING CO., LTD.\n",
      "Incoterm: CFR\n",
      "Payment_Currency: USD\n",
      "Exchange_Rate: 24060.0\n",
      "Date: 2024-01-03T00:00:00\n",
      "HSCODE: 72259190\n",
      "Product_Info: Thép hợp kim (Bo > 0.0008%), dạng cuộn, cán phẳng, được mạ kẽm bằng phương pháp điện phân, mác SECC-MD1 (tương đương SECC JIS G3313), mới 100%. KT: 2.0 mm x 1250 mm x Cuộn.Mã số chương 98 : 98110010\n",
      "Quantity: 29860\n",
      "Unit: KGM\n",
      "Unit_Price: 0.871\n",
      "Địa chỉ cty bán hàng: UNIT 3701-3703, PROFIT PLAZA NO. 76. WEST HUANGPU ROAD GUANGZHOU CHINA, 510623\n",
      "\n",
      "Import_Code: A12\n",
      "Tax ID: 101095255\n",
      "Cty nhập khẩu: CôNG TY TNHH HANWA SMC STEEL SERVICE Hà NộI\n",
      "Địa chỉ cty nhập : Lô số 47, Khu công nghiệp Quang Minh, thị trấn Quang Minh, huyện Mê Linh, TP Hà Nội, Việt Nam\n",
      "Cty bán hàng: GUANGZHOU HANWA TRADING CO., LTD.\n",
      "Incoterm: CFR\n",
      "Payment_Currency: USD\n",
      "Exchange_Rate: 24060.0\n",
      "Date: 2024-01-03T00:00:00\n",
      "HSCODE: 72259190\n",
      "Product_Info: Thép hợp kim (Bo > 0.0008%), dạng cuộn, cán phẳng, được mạ kẽm bằng phương pháp điện phân, mác SECC-MD1 (tương đương SECC JIS G3313), mới 100%. KT: 1.6 mm x 1050 mm x Cuộn.Mã số chương 98 : 98110010\n",
      "Quantity: 19910\n",
      "Unit: KGM\n",
      "Unit_Price: 0.861\n",
      "Địa chỉ cty bán hàng: UNIT 3701-3703, PROFIT PLAZA NO. 76. WEST HUANGPU ROAD GUANGZHOU CHINA, 510623\n",
      "\n",
      "Import_Code: A12\n",
      "Tax ID: 101095255\n",
      "Cty nhập khẩu: CôNG TY TNHH HANWA SMC STEEL SERVICE Hà NộI\n",
      "Địa chỉ cty nhập : Lô số 47, Khu công nghiệp Quang Minh, thị trấn Quang Minh, huyện Mê Linh, TP Hà Nội, Việt Nam\n",
      "Cty bán hàng: GUANGZHOU HANWA TRADING CO., LTD.\n",
      "Incoterm: CFR\n",
      "Payment_Currency: USD\n",
      "Exchange_Rate: 24060.0\n",
      "Date: 2024-01-03T00:00:00\n",
      "HSCODE: 72259190\n",
      "Product_Info: Thép hợp kim (Bo > 0.0008%), dạng cuộn, cán phẳng, được mạ kẽm bằng phương pháp điện phân, mác SECC-MD1 (tương đương SECC JIS G3313), mới 100%. KT: 2.0 mm x 1050 mm x Cuộn.Mã số chương 98 : 98110010\n",
      "Quantity: 21410\n",
      "Unit: KGM\n",
      "Unit_Price: 0.861\n",
      "Địa chỉ cty bán hàng: UNIT 3701-3703, PROFIT PLAZA NO. 76. WEST HUANGPU ROAD GUANGZHOU CHINA, 510623\n",
      "\n",
      "Import_Code: A12\n",
      "Tax ID: 101095255\n",
      "Cty nhập khẩu: CôNG TY TNHH HANWA SMC STEEL SERVICE Hà NộI\n",
      "Địa chỉ cty nhập : Lô số 47, Khu công nghiệp Quang Minh, thị trấn Quang Minh, huyện Mê Linh, TP Hà Nội, Việt Nam\n",
      "Cty bán hàng: GUANGZHOU HANWA TRADING CO., LTD.\n",
      "Incoterm: CFR\n",
      "Payment_Currency: USD\n",
      "Exchange_Rate: 24060.0\n",
      "Date: 2024-01-03T00:00:00\n",
      "HSCODE: 72259190\n",
      "Product_Info: Thép hợp kim (Bo > 0.0008%), dạng cuộn, cán phẳng, được mạ kẽm bằng phương pháp điện phân, mác SECC-MD1 (tương đương SECC JIS G3313), mới 100%. KT: 1.6 mm x 910 mm x Cuộn.Mã số chương 98 : 98110010\n",
      "Quantity: 45960\n",
      "Unit: KGM\n",
      "Unit_Price: 0.861\n",
      "Địa chỉ cty bán hàng: UNIT 3701-3703, PROFIT PLAZA NO. 76. WEST HUANGPU ROAD GUANGZHOU CHINA, 510623\n",
      "\n",
      "Import_Code: A12\n",
      "Tax ID: 101095255\n",
      "Cty nhập khẩu: CôNG TY TNHH HANWA SMC STEEL SERVICE Hà NộI\n",
      "Địa chỉ cty nhập : Lô số 47, Khu công nghiệp Quang Minh, thị trấn Quang Minh, huyện Mê Linh, TP Hà Nội, Việt Nam\n",
      "Cty bán hàng: GUANGZHOU HANWA TRADING CO., LTD.\n",
      "Incoterm: CFR\n",
      "Payment_Currency: USD\n",
      "Exchange_Rate: 24060.0\n",
      "Date: 2024-01-03T00:00:00\n",
      "HSCODE: 72259190\n",
      "Product_Info: Thép hợp kim (Bo > 0.0008%), dạng cuộn, cán phẳng, được mạ kẽm bằng phương pháp điện phân, mác SECC-MD1 (tương đương SECC JIS G3313), mới 100%. KT: 2.0 mm x 1219 mm x Cuộn.Mã số chương 98 : 98110010\n",
      "Quantity: 45640\n",
      "Unit: KGM\n",
      "Unit_Price: 0.871\n",
      "Địa chỉ cty bán hàng: UNIT 3701-3703, PROFIT PLAZA NO. 76. WEST HUANGPU ROAD GUANGZHOU CHINA, 510623\n",
      "Human: what VSSC steel center import?\u001b[0m\n",
      "\n",
      "\u001b[1m> Finished chain.\u001b[0m\n",
      "\n",
      "\u001b[1m> Finished chain.\u001b[0m\n",
      "\n",
      "\u001b[1m> Finished chain.\u001b[0m\n",
      "\n",
      "Answer: VSSC Steel Center imports various types of cold-rolled unalloyed flat steel in coil form. The products include:\n",
      "\n",
      "1. Steel with a thickness of 0.4mm, width of 735mm, and carbon content < 0.6%.\n",
      "2. Steel with a thickness of 1.0mm, width of 843mm, and carbon content < 0.6%.\n",
      "3. Steel with a thickness of 0.4mm, width of 699mm, and carbon content < 0.6%.\n",
      "4. Steel with a thickness of 1.0mm, width of 843mm, and carbon content < 0.6%.\n",
      "5. Steel with a thickness of 0.7mm, width of 966mm, and carbon content < 0.6%.\n",
      "6. Steel with a thickness of 0.8mm, width of 962mm, and carbon content < 0.6%.\n",
      "7. Steel with a thickness of 0.35mm, width of 669.5mm, and carbon content < 0.6%.\n",
      "\n",
      "All products are new and comply with JIS G 3312 standards.\n"
     ]
    }
   ],
   "source": [
    "from langchain_core.callbacks import StdOutCallbackHandler\n",
    "llm = ChatOpenAI(temperature=0.7, model_name=\"gpt-4o-mini\")\n",
    "memory = ConversationBufferMemory(memory_key='chat_history', return_messages=True)\n",
    "retriever = vectorstore.as_retriever(search_kwargs={\"k\": 25})\n",
    "conversation_chain = ConversationalRetrievalChain.from_llm(llm=llm, retriever=retriever, memory=memory, callbacks=[StdOutCallbackHandler()])\n",
    "\n",
    "query = \"what VSSC steel center import?\"\n",
    "result = conversation_chain.invoke({\"question\": query})\n",
    "answer = result[\"answer\"]\n",
    "print(\"\\nAnswer:\", answer)"
   ]
  },
  {
   "cell_type": "code",
   "execution_count": null,
   "id": "a24accec-1566-432e-9353-c5a4d7b6673d",
   "metadata": {},
   "outputs": [],
   "source": []
  }
 ],
 "metadata": {
  "kernelspec": {
   "display_name": "Python 3 (ipykernel)",
   "language": "python",
   "name": "python3"
  },
  "language_info": {
   "codemirror_mode": {
    "name": "ipython",
    "version": 3
   },
   "file_extension": ".py",
   "mimetype": "text/x-python",
   "name": "python",
   "nbconvert_exporter": "python",
   "pygments_lexer": "ipython3",
   "version": "3.11.11"
  }
 },
 "nbformat": 4,
 "nbformat_minor": 5
}
