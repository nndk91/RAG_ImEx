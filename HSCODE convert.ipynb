{
 "cells": [
  {
   "cell_type": "code",
   "execution_count": null,
   "id": "39ed7d21-f35e-4113-a290-44558d96ae14",
   "metadata": {},
   "outputs": [],
   "source": [
    "import pandas as pd\n",
    "import os\n",
    "\n",
    "def excel_to_markdown_all_sheets(excel_file, output_md_file):\n",
    "    try:\n",
    "        excel = pd.ExcelFile(excel_file)\n",
    "\n",
    "        with open(output_md_file, 'w', encoding='utf-8') as md_file:\n",
    "            for sheet_name in excel.sheet_names:\n",
    "                df = pd.read_excel(excel_file, sheet_name=sheet_name)\n",
    "                print(f\"Processing sheet: {sheet_name}\")\n",
    "                print(df)\n",
    "\n",
    "                md_file.write(f\"## Sheet: {sheet_name}\\n\\n\")\n",
    "\n",
    "                header = \"| \" + \" | \".join(df.columns) + \" |\\n\"\n",
    "                separator = \"| \" + \" | \".join([\"---\"] * len(df.columns)) + \" |\\n\"\n",
    "                md_file.write(header)\n",
    "                md_file.write(separator)\n",
    "\n",
    "                for _, row in df.iterrows():  # Iterate through rows\n",
    "                    row_str = \"|\"\n",
    "                    for value in row:  # Iterate through values in each row\n",
    "                        if pd.isna(value):\n",
    "                            row_str += \" |\"  # Handle NaN values\n",
    "                        else:\n",
    "                            try:\n",
    "                                row_str += f\" {str(value)} |\" # Convert to string with space padding\n",
    "                            except Exception as e: # Catch any error during string conversion\n",
    "                                print(f\"Error converting value: {value} of type {type(value)}: {e}\")\n",
    "                                row_str += \" |\" # Add a placeholder\n",
    "                    row_str += \"\\n\"\n",
    "\n",
    "                    md_file.write(row_str)\n",
    "\n",
    "\n",
    "                md_file.write(\"\\n\")\n",
    "\n",
    "        print(f\"Converted '{excel_file}' (all sheets) to '{output_md_file}'\")\n",
    "\n",
    "    except FileNotFoundError:\n",
    "        print(f\"Error: File not found: {excel_file}\")\n",
    "    except Exception as e:\n",
    "        print(f\"Error converting '{excel_file}': {e}\")\n",
    "\n",
    "# ... (example usage)\n",
    "# Example usage:\n",
    "excel_file = \"Data_test/Hscode_Data/24EDB310.xlsx\"\n",
    "output_md_file = \"Data_test/Hscode_Data/output_all_sheets.md\"\n",
    "\n",
    "excel_to_markdown_all_sheets(excel_file, output_md_file)      \n",
    "\n"
   ]
  },
  {
   "cell_type": "code",
   "execution_count": null,
   "id": "26738705-d0c8-42d7-a57c-298928d83487",
   "metadata": {},
   "outputs": [],
   "source": []
  }
 ],
 "metadata": {
  "kernelspec": {
   "display_name": "Python 3 (ipykernel)",
   "language": "python",
   "name": "python3"
  },
  "language_info": {
   "codemirror_mode": {
    "name": "ipython",
    "version": 3
   },
   "file_extension": ".py",
   "mimetype": "text/x-python",
   "name": "python",
   "nbconvert_exporter": "python",
   "pygments_lexer": "ipython3",
   "version": "3.11.11"
  }
 },
 "nbformat": 4,
 "nbformat_minor": 5
}
